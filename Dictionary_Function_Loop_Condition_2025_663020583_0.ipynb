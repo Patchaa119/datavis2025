{
  "nbformat": 4,
  "nbformat_minor": 0,
  "metadata": {
    "kernelspec": {
      "display_name": "Python 3",
      "language": "python",
      "name": "python3"
    },
    "language_info": {
      "codemirror_mode": {
        "name": "ipython",
        "version": 3
      },
      "file_extension": ".py",
      "mimetype": "text/x-python",
      "name": "python",
      "nbconvert_exporter": "python",
      "pygments_lexer": "ipython3",
      "version": "3.7.4"
    },
    "colab": {
      "provenance": [],
      "toc_visible": true,
      "include_colab_link": true
    }
  },
  "cells": [
    {
      "cell_type": "markdown",
      "metadata": {
        "id": "view-in-github",
        "colab_type": "text"
      },
      "source": [
        "<a href=\"https://colab.research.google.com/github/Patchaa119/datavis2025/blob/main/Dictionary_Function_Loop_Condition_2025_663020583_0.ipynb\" target=\"_parent\"><img src=\"https://colab.research.google.com/assets/colab-badge.svg\" alt=\"Open In Colab\"/></a>"
      ]
    },
    {
      "cell_type": "markdown",
      "source": [
        "HW1 note"
      ],
      "metadata": {
        "id": "2wnVRxt7Qw8x"
      }
    },
    {
      "cell_type": "code",
      "source": [
        "inp = '12:30:15-13:41:07'\n",
        "inp_list = inp.split('-')\n",
        "inp_list"
      ],
      "metadata": {
        "colab": {
          "base_uri": "https://localhost:8080/"
        },
        "id": "7b9PZ1gTQ0EA",
        "outputId": "9c37b451-a492-4d8b-a888-95047fad654b"
      },
      "execution_count": null,
      "outputs": [
        {
          "output_type": "execute_result",
          "data": {
            "text/plain": [
              "['12:30:15', '13:41:07']"
            ]
          },
          "metadata": {},
          "execution_count": 1
        }
      ]
    },
    {
      "cell_type": "markdown",
      "source": [
        "# Dictionary"
      ],
      "metadata": {
        "id": "CABRI313SJSQ"
      }
    },
    {
      "cell_type": "code",
      "source": [
        "dict_a = {'abc':123, 'def':456, 'ghi':789}"
      ],
      "metadata": {
        "id": "Qnyhj4HtSIli"
      },
      "execution_count": null,
      "outputs": []
    },
    {
      "cell_type": "code",
      "source": [
        "dict_a"
      ],
      "metadata": {
        "colab": {
          "base_uri": "https://localhost:8080/"
        },
        "id": "8gWCyUeySy8i",
        "outputId": "617078fb-8adc-40a7-9d9a-d11aa47867e7"
      },
      "execution_count": null,
      "outputs": [
        {
          "output_type": "execute_result",
          "data": {
            "text/plain": [
              "{'abc': 123, 'def': 456, 'ghi': 789}"
            ]
          },
          "metadata": {},
          "execution_count": 3
        }
      ]
    },
    {
      "cell_type": "code",
      "source": [
        "dict_a['def']"
      ],
      "metadata": {
        "colab": {
          "base_uri": "https://localhost:8080/"
        },
        "id": "ulQYUsCtS79_",
        "outputId": "5ac3eef8-d26e-4e2d-d05f-955391865594"
      },
      "execution_count": null,
      "outputs": [
        {
          "output_type": "execute_result",
          "data": {
            "text/plain": [
              "456"
            ]
          },
          "metadata": {},
          "execution_count": 4
        }
      ]
    },
    {
      "cell_type": "code",
      "source": [
        "dict_b = {}"
      ],
      "metadata": {
        "id": "Ayk2ex0sTB7i"
      },
      "execution_count": null,
      "outputs": []
    },
    {
      "cell_type": "code",
      "source": [
        "dict_b['a'] = 123"
      ],
      "metadata": {
        "id": "MdynYkCITCL1"
      },
      "execution_count": null,
      "outputs": []
    },
    {
      "cell_type": "code",
      "source": [
        "dict_b"
      ],
      "metadata": {
        "colab": {
          "base_uri": "https://localhost:8080/"
        },
        "id": "dp71-xmqTo8g",
        "outputId": "056f96a3-4f78-4401-dc12-13e2cba1622a"
      },
      "execution_count": null,
      "outputs": [
        {
          "output_type": "execute_result",
          "data": {
            "text/plain": [
              "{'a': 123}"
            ]
          },
          "metadata": {},
          "execution_count": 7
        }
      ]
    },
    {
      "cell_type": "code",
      "source": [
        "dict_b['a'] = 567"
      ],
      "metadata": {
        "id": "IPiCtRkhTszf"
      },
      "execution_count": null,
      "outputs": []
    },
    {
      "cell_type": "code",
      "source": [
        "dict_b ### add ซ้ำ ตัวเดิมจะหายแล้วถูกแทนที่ด้วยค่าใหม่"
      ],
      "metadata": {
        "colab": {
          "base_uri": "https://localhost:8080/"
        },
        "id": "4GoTr9B8Ts8O",
        "outputId": "03389fb6-d123-4aaa-dc28-c7516cdabbdd"
      },
      "execution_count": null,
      "outputs": [
        {
          "output_type": "execute_result",
          "data": {
            "text/plain": [
              "{'a': 567}"
            ]
          },
          "metadata": {},
          "execution_count": 15
        }
      ]
    },
    {
      "cell_type": "markdown",
      "source": [
        "# การ add สมาชิกเข้าไปใน dict"
      ],
      "metadata": {
        "id": "law59VW6UScg"
      }
    },
    {
      "cell_type": "code",
      "source": [
        "if 'b' not in dict_b:\n",
        "    dict_b['b'] = 123"
      ],
      "metadata": {
        "id": "m6Gkwk_vTtFv"
      },
      "execution_count": null,
      "outputs": []
    },
    {
      "cell_type": "code",
      "source": [
        "dict_b"
      ],
      "metadata": {
        "colab": {
          "base_uri": "https://localhost:8080/"
        },
        "id": "dyCZv-gwTtN3",
        "outputId": "06996fde-f269-47c0-93be-e916a73e40d9"
      },
      "execution_count": null,
      "outputs": [
        {
          "output_type": "execute_result",
          "data": {
            "text/plain": [
              "{'a': 567, 'b': 123}"
            ]
          },
          "metadata": {},
          "execution_count": 17
        }
      ]
    },
    {
      "cell_type": "markdown",
      "metadata": {
        "id": "-57L9aVubPqU"
      },
      "source": [
        "# Function"
      ]
    },
    {
      "cell_type": "markdown",
      "metadata": {
        "id": "1DNzYhO4bPqb"
      },
      "source": [
        "## Function template\n",
        "#### ทำหน้าที่รับ input มาประมวณผลออกมาเป็น output\n",
        "#### f(x) = y"
      ]
    },
    {
      "cell_type": "markdown",
      "metadata": {
        "id": "3Nv1ZDEKbPqc"
      },
      "source": [
        "### def คือการกำหนดฟังก์ชัน"
      ]
    },
    {
      "cell_type": "markdown",
      "metadata": {
        "id": "DbHDoWEabPqc"
      },
      "source": [
        "```python\n",
        "    def function_name(_Input_) :\n",
        "        do_something with _Input_ to get _Output_\n",
        "        return _Output_\n",
        "```"
      ]
    },
    {
      "cell_type": "code",
      "source": [
        "### mine\n",
        "def square_number(number):\n",
        "    result = number ** 2\n",
        "    return result\n",
        "print(square_number(5))  # จะได้ผลลัพธ์ 25"
      ],
      "metadata": {
        "colab": {
          "base_uri": "https://localhost:8080/"
        },
        "id": "qMKTclo7V3yP",
        "outputId": "b00ef61b-a672-43f8-ee4b-294012a393f7"
      },
      "execution_count": null,
      "outputs": [
        {
          "output_type": "stream",
          "name": "stdout",
          "text": [
            "25\n"
          ]
        }
      ]
    },
    {
      "cell_type": "code",
      "source": [
        "### mine\n",
        "def to_uppercase(text):\n",
        "    output = text.upper()\n",
        "    return output\n",
        "print(to_uppercase(\"hello\"))  # จะได้ \"HELLO\""
      ],
      "metadata": {
        "colab": {
          "base_uri": "https://localhost:8080/"
        },
        "id": "Vh-G3PL7WBYC",
        "outputId": "a9b40756-1850-4878-d8df-6fc48c1ecb13"
      },
      "execution_count": null,
      "outputs": [
        {
          "output_type": "stream",
          "name": "stdout",
          "text": [
            "HELLO\n"
          ]
        }
      ]
    },
    {
      "cell_type": "markdown",
      "metadata": {
        "id": "1fuimreqpVhU"
      },
      "source": [
        "เราใช้ เว้นวรรค (indent) เพื่อบอกขอบเขตของโปรแกรม"
      ]
    },
    {
      "cell_type": "markdown",
      "metadata": {
        "id": "kh2M1smCl5Iv"
      },
      "source": [
        "function มีส่วนสำคัญทั้งหมด 4 ส่วน\n",
        "\n",
        "1.   บอก python ว่าเราจะเขียนฟังก์ชั่น ชื่ออะไร  ```def function_name():``` (ขาดไม่ได้)\n",
        "2.   กำหนดตัวแปรที่จะเป็น input  ```_Input_``` (ขาดได้)\n",
        "3.   ส่วนประมวลผล ```do_something with _Input_ to get _Output_``` (ขาดไม่ได้)\n",
        "4.   ส่วน output ```return _Output_```(ขาดได้)\n",
        "\n"
      ]
    },
    {
      "cell_type": "markdown",
      "metadata": {
        "id": "lqWzVN5AbPqc"
      },
      "source": [
        "#### ตัวอย่างการเขียน normal function\n"
      ]
    },
    {
      "cell_type": "code",
      "source": [
        "def print_myname():   # ตัวอย่าง function ที่ไม่มีทั้ง input และ output\n",
        "    print('Thanapong')"
      ],
      "metadata": {
        "id": "6wzfVo_pTefO"
      },
      "execution_count": null,
      "outputs": []
    },
    {
      "cell_type": "code",
      "source": [
        "print_myname()"
      ],
      "metadata": {
        "colab": {
          "base_uri": "https://localhost:8080/"
        },
        "id": "482E9UnsUMkC",
        "outputId": "5bf7b025-0c9c-41b2-a763-b2cc1ec4ddbb"
      },
      "execution_count": null,
      "outputs": [
        {
          "output_type": "stream",
          "name": "stdout",
          "text": [
            "Thanapong\n"
          ]
        }
      ]
    },
    {
      "cell_type": "code",
      "metadata": {
        "id": "n706WULobPqc"
      },
      "source": [
        "def print_name(surname,ID,name):        # ตัวอย่าง function ที่ มี input หลายตัว กับ output 1 ตัว\n",
        "    st = f'ชื่อ {name} นามสกุล {surname} รหัส {ID}'\n",
        "    return st"
      ],
      "execution_count": null,
      "outputs": []
    },
    {
      "cell_type": "code",
      "metadata": {
        "colab": {
          "base_uri": "https://localhost:8080/",
          "height": 35
        },
        "id": "muh0pi_Gkym8",
        "outputId": "8a4a3dd6-8d19-4c60-9c32-3ae2e306e146"
      },
      "source": [
        "print_name('อินทระ','64xxxxxx','ธนพงศ์')"
      ],
      "execution_count": null,
      "outputs": [
        {
          "output_type": "execute_result",
          "data": {
            "text/plain": [
              "'ชื่อ ธนพงศ์ นามสกุล อินทระ รหัส 64xxxxxx'"
            ],
            "application/vnd.google.colaboratory.intrinsic+json": {
              "type": "string"
            }
          },
          "metadata": {},
          "execution_count": 43
        }
      ]
    },
    {
      "cell_type": "code",
      "source": [
        "print_name(name='กาญจนา',surname='ประสาคุณ',ID='603021855-2')"
      ],
      "metadata": {
        "colab": {
          "base_uri": "https://localhost:8080/",
          "height": 35
        },
        "id": "vxooaHuHVTDJ",
        "outputId": "a5e82e82-94b0-4e07-eec6-4f43078819fc"
      },
      "execution_count": null,
      "outputs": [
        {
          "output_type": "execute_result",
          "data": {
            "text/plain": [
              "'ชื่อ กาญจนา นามสกุล ประสาคุณ รหัส 603021855-2'"
            ],
            "application/vnd.google.colaboratory.intrinsic+json": {
              "type": "string"
            }
          },
          "metadata": {},
          "execution_count": 44
        }
      ]
    },
    {
      "cell_type": "code",
      "source": [
        "print_name('Stat')"
      ],
      "metadata": {
        "colab": {
          "base_uri": "https://localhost:8080/",
          "height": 35
        },
        "id": "HTcXiygbXKqO",
        "outputId": "8d6a47ca-6b8c-4d72-aaff-9c791f8e7caa"
      },
      "execution_count": null,
      "outputs": [
        {
          "output_type": "execute_result",
          "data": {
            "text/plain": [
              "'ชื่อ Stat'"
            ],
            "application/vnd.google.colaboratory.intrinsic+json": {
              "type": "string"
            }
          },
          "metadata": {},
          "execution_count": 47
        }
      ]
    },
    {
      "cell_type": "code",
      "source": [
        "a = print_name('Stat')\n",
        "a"
      ],
      "metadata": {
        "colab": {
          "base_uri": "https://localhost:8080/",
          "height": 35
        },
        "id": "9jUkZQNmXZ8O",
        "outputId": "87e8e6d9-ce6a-45f3-9900-9e9927185f09"
      },
      "execution_count": null,
      "outputs": [
        {
          "output_type": "execute_result",
          "data": {
            "text/plain": [
              "'ชื่อ Stat'"
            ],
            "application/vnd.google.colaboratory.intrinsic+json": {
              "type": "string"
            }
          },
          "metadata": {},
          "execution_count": 50
        }
      ]
    },
    {
      "cell_type": "code",
      "source": [
        "### mine\n",
        "def print_name(name):        # ตัวอย่าง function ที่มีครบทุกส่วน\n",
        "    st = f'ชื่อ {name}'\n",
        "    return st"
      ],
      "metadata": {
        "id": "Pi1TvODfWyff"
      },
      "execution_count": null,
      "outputs": []
    },
    {
      "cell_type": "code",
      "source": [
        "print_name('Stat')"
      ],
      "metadata": {
        "colab": {
          "base_uri": "https://localhost:8080/",
          "height": 35
        },
        "id": "v9eakJgdXttf",
        "outputId": "0c89c795-6238-4252-a246-3ac9f602e0ec"
      },
      "execution_count": null,
      "outputs": [
        {
          "output_type": "execute_result",
          "data": {
            "text/plain": [
              "'ชื่อ Stat'"
            ],
            "application/vnd.google.colaboratory.intrinsic+json": {
              "type": "string"
            }
          },
          "metadata": {},
          "execution_count": 52
        }
      ]
    },
    {
      "cell_type": "code",
      "source": [
        "A = print_name('Stat')\n",
        "A"
      ],
      "metadata": {
        "colab": {
          "base_uri": "https://localhost:8080/",
          "height": 35
        },
        "id": "M9GXYz5eX0b-",
        "outputId": "62c3edbf-c800-48a6-920e-7e6a3bdd379e"
      },
      "execution_count": null,
      "outputs": [
        {
          "output_type": "execute_result",
          "data": {
            "text/plain": [
              "'ชื่อ Stat'"
            ],
            "application/vnd.google.colaboratory.intrinsic+json": {
              "type": "string"
            }
          },
          "metadata": {},
          "execution_count": 53
        }
      ]
    },
    {
      "cell_type": "code",
      "source": [
        "def print_fullname(surname,ID,name):        # ตัวอย่าง function ที่ มี input หลายตัว กับ output 1 ตัว\n",
        "    st = f'ชื่อ {name} นามสกุล {surname} รหัส {ID}'\n",
        "    return st"
      ],
      "metadata": {
        "id": "HrhEWmpLYI6X"
      },
      "execution_count": null,
      "outputs": []
    },
    {
      "cell_type": "code",
      "source": [
        "print_fullname('Deeya','66xxxxxxx','Patcharee')"
      ],
      "metadata": {
        "colab": {
          "base_uri": "https://localhost:8080/",
          "height": 35
        },
        "id": "A94k0mGyYNLf",
        "outputId": "1aef9db8-59f6-493a-c8cb-210c08b13e44"
      },
      "execution_count": null,
      "outputs": [
        {
          "output_type": "execute_result",
          "data": {
            "text/plain": [
              "'ชื่อ Patcharee นามสกุล Deeya รหัส 66xxxxxxx'"
            ],
            "application/vnd.google.colaboratory.intrinsic+json": {
              "type": "string"
            }
          },
          "metadata": {},
          "execution_count": 55
        }
      ]
    },
    {
      "cell_type": "markdown",
      "metadata": {
        "id": "tSV-FUQBpx0i"
      },
      "source": [
        "ฟังก์ชั่นไม่จำเป็นต้องมี output"
      ]
    },
    {
      "cell_type": "code",
      "metadata": {
        "id": "loNAFSvLo5dC"
      },
      "source": [
        "def print_name2(surname,ID,name):\n",
        "    st = f'ชื่อ {name} นามสกุล {surname} รหัส {ID}'\n",
        "    print(st)"
      ],
      "execution_count": null,
      "outputs": []
    },
    {
      "cell_type": "code",
      "metadata": {
        "colab": {
          "base_uri": "https://localhost:8080/"
        },
        "id": "JE88oCj8o_j_",
        "outputId": "9b5bdff8-5c50-4ddd-b856-8cc196804c63"
      },
      "source": [
        "print_name2(name='กาญจนา',surname='ประสาคุณ',ID='603021855-2')"
      ],
      "execution_count": null,
      "outputs": [
        {
          "output_type": "stream",
          "name": "stdout",
          "text": [
            "ชื่อ กาญจนา นามสกุล ประสาคุณ รหัส 603021855-2\n"
          ]
        }
      ]
    },
    {
      "cell_type": "markdown",
      "source": [
        "### ข้อแตกต่างระหว่าง function ที่มีและไม่มี output"
      ],
      "metadata": {
        "id": "dW328wxLWauv"
      }
    },
    {
      "cell_type": "code",
      "source": [
        "out_printname1 = print_fullname(name='กาญจนา',surname='ประสาคุณ',ID='603021855-2') # มี output\n",
        "print(out_printname1)"
      ],
      "metadata": {
        "colab": {
          "base_uri": "https://localhost:8080/"
        },
        "id": "Ae6C6-DTWFOD",
        "outputId": "ea656633-ebcd-4cf8-9dea-a44249b98933"
      },
      "execution_count": null,
      "outputs": [
        {
          "output_type": "stream",
          "name": "stdout",
          "text": [
            "ชื่อ กาญจนา นามสกุล ประสาคุณ รหัส 603021855-2\n"
          ]
        }
      ]
    },
    {
      "cell_type": "code",
      "source": [
        "out_printname1"
      ],
      "metadata": {
        "colab": {
          "base_uri": "https://localhost:8080/",
          "height": 35
        },
        "id": "yPtH94N0WtsE",
        "outputId": "328b6d4e-fb94-43da-a089-511dcf213925"
      },
      "execution_count": null,
      "outputs": [
        {
          "output_type": "execute_result",
          "data": {
            "text/plain": [
              "'ชื่อ กาญจนา นามสกุล ประสาคุณ รหัส 603021855-2'"
            ],
            "application/vnd.google.colaboratory.intrinsic+json": {
              "type": "string"
            }
          },
          "metadata": {},
          "execution_count": 60
        }
      ]
    },
    {
      "cell_type": "code",
      "source": [
        "out_printname2 = print_name2(name='กาญจนา',surname='ประสาคุณ',ID='603021855-2')  # ไม่มี output\n",
        "print(out_printname2)"
      ],
      "metadata": {
        "colab": {
          "base_uri": "https://localhost:8080/"
        },
        "id": "AbT5pKVYWRBn",
        "outputId": "743b6d6e-d0f1-4045-bf66-9a65191cd009"
      },
      "execution_count": null,
      "outputs": [
        {
          "output_type": "stream",
          "name": "stdout",
          "text": [
            "ชื่อ กาญจนา นามสกุล ประสาคุณ รหัส 603021855-2\n",
            "None\n"
          ]
        }
      ]
    },
    {
      "cell_type": "code",
      "source": [
        "out_printname2"
      ],
      "metadata": {
        "id": "l_fW68dyXDw3"
      },
      "execution_count": null,
      "outputs": []
    },
    {
      "cell_type": "markdown",
      "metadata": {
        "id": "JF4RdyEBqPyl"
      },
      "source": [
        "ฟังก์ชั่นไม่จำเป็นต้องมี input"
      ]
    },
    {
      "cell_type": "code",
      "metadata": {
        "id": "LNb_o_ZXo_gh"
      },
      "source": [
        "def Pi():\n",
        "    return 3.14159265359"
      ],
      "execution_count": null,
      "outputs": []
    },
    {
      "cell_type": "code",
      "metadata": {
        "colab": {
          "base_uri": "https://localhost:8080/"
        },
        "id": "htN6zLbFo_dr",
        "outputId": "eac5505f-ddee-40ce-8979-2fdb2a867b6c"
      },
      "source": [
        "Pi()*(2**2) # หาพื้นที่ของวงกลมที่มีรัศมีเท่ากับ Pi * r^2"
      ],
      "execution_count": null,
      "outputs": [
        {
          "output_type": "execute_result",
          "data": {
            "text/plain": [
              "12.56637061436"
            ]
          },
          "metadata": {},
          "execution_count": 65
        }
      ]
    },
    {
      "cell_type": "markdown",
      "metadata": {
        "id": "ywc0Ho-_rUTu"
      },
      "source": [
        "## เราสามารถกำหนดค่า default ให้กับ input ของฟังก์ชั่นได้"
      ]
    },
    {
      "cell_type": "markdown",
      "metadata": {
        "id": "y_74dHkjxS7f"
      },
      "source": [
        "input ของ function ใน python มีสองแบบ input ที่จำเป็นต้องใส่ กับ input ที่ไม่จำเป็นต้องใส่ (มีค่า default)\n",
        "\n",
        "เราต้องเรียง input ที่จำเป็นต้องใส่ขึ้นก่อน"
      ]
    },
    {
      "cell_type": "code",
      "metadata": {
        "id": "0Lrh-6mAo_bA"
      },
      "source": [
        "def print_2lines_default(name,surname,ID,grade='F'):\n",
        "    st = f'ชื่อ {name} นามสกุล {surname} รหัส {ID}'\n",
        "    print (st)\n",
        "    st2=f'เกรดวิชา Data Viz >>> {grade}'\n",
        "    print(st2)"
      ],
      "execution_count": null,
      "outputs": []
    },
    {
      "cell_type": "code",
      "metadata": {
        "colab": {
          "base_uri": "https://localhost:8080/"
        },
        "id": "ZH31VIjko_WP",
        "outputId": "697bb54d-7bed-4d55-9f59-74316c76b66b"
      },
      "source": [
        "print_2lines_default('รุ่งแสง','กองสุข','663020551-8') ### ถ้าไม่ใส่ค่าให้ ก็จะ default คือติด F"
      ],
      "execution_count": null,
      "outputs": [
        {
          "output_type": "stream",
          "name": "stdout",
          "text": [
            "ชื่อ รุ่งแสง นามสกุล กองสุข รหัส 663020551-8\n",
            "เกรดวิชา Data Viz >>> F\n"
          ]
        }
      ]
    },
    {
      "cell_type": "code",
      "metadata": {
        "colab": {
          "base_uri": "https://localhost:8080/"
        },
        "id": "FKGr2Iyuo_S2",
        "outputId": "41b4d39c-0024-4a95-a01e-aa2c99e9f86a"
      },
      "source": [
        "print_2lines_default('ธันยาการต์','พวงมาลัย','613020551-8','A')"
      ],
      "execution_count": null,
      "outputs": [
        {
          "output_type": "stream",
          "name": "stdout",
          "text": [
            "ชื่อ ธันยาการต์ นามสกุล พวงมาลัย รหัส 613020551-8\n",
            "เกรดวิชา Data Viz >>> A\n"
          ]
        }
      ]
    },
    {
      "cell_type": "code",
      "source": [
        "print_2lines_default('ธันยาการต์','พวงมาลัย','613020551-8',grade = 'A')"
      ],
      "metadata": {
        "colab": {
          "base_uri": "https://localhost:8080/"
        },
        "id": "Au_P2Cm8ZDXL",
        "outputId": "cc071dcb-c9c6-4bad-c193-49408793b352"
      },
      "execution_count": null,
      "outputs": [
        {
          "output_type": "stream",
          "name": "stdout",
          "text": [
            "ชื่อ ธันยาการต์ นามสกุล พวงมาลัย รหัส 613020551-8\n",
            "เกรดวิชา Data Viz >>> A\n"
          ]
        }
      ]
    },
    {
      "cell_type": "code",
      "source": [
        "print_2lines_default('ธันยาการต์','พวงมาลัย') ### ใส่ input ไม่ครบจะติด error"
      ],
      "metadata": {
        "id": "cLGa_pO1Zv1U"
      },
      "execution_count": null,
      "outputs": []
    },
    {
      "cell_type": "markdown",
      "source": [
        "# Quiz3\n",
        "เขียน function ของ HW2\n",
        "commit \"quiz5\""
      ],
      "metadata": {
        "id": "Alh7JMwDa1k1"
      }
    },
    {
      "cell_type": "markdown",
      "source": [
        "Mine"
      ],
      "metadata": {
        "id": "-C_CweszfSQ9"
      }
    },
    {
      "cell_type": "code",
      "source": [
        "def quiz5(timeinput):\n",
        "    day_order = {\n",
        "        'Sunday': 0, 'Monday': 1, 'Tuesday': 2, 'Wednesday': 3,\n",
        "        'Thursday': 4, 'Friday': 5, 'Saturday': 6\n",
        "    }\n",
        "\n",
        "    # แยกเป็นสองฝั่งซ้าย-ขวา\n",
        "    start_str, end_str = timeinput.strip().split(' - ')\n",
        "    time1_str, day1_str = start_str.split(', ')\n",
        "    time2_str, day2_str = end_str.split(', ')\n",
        "\n",
        "    # แปลงเวลาเป็นวินาที\n",
        "    h1, m1, s1 = map(int, time1_str.split(':'))\n",
        "    h2, m2, s2 = map(int, time2_str.split(':'))\n",
        "    t1_sec = h1 * 3600 + m1 * 60 + s1\n",
        "    t2_sec = h2 * 3600 + m2 * 60 + s2\n",
        "\n",
        "    # คำนวณจำนวนวัน\n",
        "    day_diff = (day_order[day2_str] - day_order[day1_str]) % 7\n",
        "    sec_diff = t2_sec - t1_sec\n",
        "\n",
        "    # ถ้าเวลาจบมาก่อนเวลาเริ่ม ต้องยืมวัน\n",
        "    if sec_diff < 0:\n",
        "        sec_diff += 86400\n",
        "        day_diff -= 1\n",
        "\n",
        "    return day_diff, sec_diff"
      ],
      "metadata": {
        "id": "RUPziXhObRpA"
      },
      "execution_count": null,
      "outputs": []
    },
    {
      "cell_type": "code",
      "source": [
        "d, s = quiz5(\"12:30:15, Wednesday - 13:41:07, Thursday\")\n",
        "print(f\"{d} วัน {s} วินาที\")"
      ],
      "metadata": {
        "colab": {
          "base_uri": "https://localhost:8080/"
        },
        "id": "u8v03YNZbUEy",
        "outputId": "7781d599-1d37-4ec2-8de5-c5ad7a725cec"
      },
      "execution_count": null,
      "outputs": [
        {
          "output_type": "stream",
          "name": "stdout",
          "text": [
            "1 วัน 4252 วินาที\n"
          ]
        }
      ]
    },
    {
      "cell_type": "code",
      "source": [
        "d, s = quiz5(\"12:53:15, Monday - 00:59:25, Tuesday\")\n",
        "print(f\"{d} วัน {s} วินาที\")"
      ],
      "metadata": {
        "colab": {
          "base_uri": "https://localhost:8080/"
        },
        "id": "fffrN0Awczbo",
        "outputId": "07e5dfb6-14bb-4332-ad93-0b64abf4e935"
      },
      "execution_count": null,
      "outputs": [
        {
          "output_type": "stream",
          "name": "stdout",
          "text": [
            "0 วัน 43570 วินาที\n"
          ]
        }
      ]
    },
    {
      "cell_type": "code",
      "source": [
        "d, s = quiz5(\"16:06:09, Sunday - 11:11:11, Tuesday\")\n",
        "print(f\"{d} วัน {s} วินาที\")"
      ],
      "metadata": {
        "colab": {
          "base_uri": "https://localhost:8080/"
        },
        "id": "MOgdYny-c7Qv",
        "outputId": "42ebc6d5-ac26-46e6-8e1e-18adbba2bd3f"
      },
      "execution_count": null,
      "outputs": [
        {
          "output_type": "stream",
          "name": "stdout",
          "text": [
            "1 วัน 68702 วินาที\n"
          ]
        }
      ]
    },
    {
      "cell_type": "markdown",
      "source": [
        "ของรุ่นพี่"
      ],
      "metadata": {
        "id": "RgxuAq8NfOqd"
      }
    },
    {
      "cell_type": "code",
      "source": [
        "def cal_dif_secs(timeinput):\n",
        "    timelist = timeinput.split('-')\n",
        "    time1 = timelist[0].split(':')\n",
        "    time2 = timelist[1].split(':')\n",
        "    time1_sec = int(time1[0])*3600 + int(time1[1])*60 + int(time1[2])\n",
        "    time2_sec = int(time2[0])*3600 + int(time2[1])*60 + int(time2[2])\n",
        "    dif_sec = time2_sec - time1_sec\n",
        "    return dif_sec"
      ],
      "metadata": {
        "id": "Y_cPWPKzewFM"
      },
      "execution_count": null,
      "outputs": []
    },
    {
      "cell_type": "code",
      "source": [
        "cal_dif_secs('12:30:15-13:41:07')"
      ],
      "metadata": {
        "colab": {
          "base_uri": "https://localhost:8080/"
        },
        "id": "1lO3BaYJfUuF",
        "outputId": "afb93d0b-3b20-4245-9d80-03ddbd310064"
      },
      "execution_count": null,
      "outputs": [
        {
          "output_type": "execute_result",
          "data": {
            "text/plain": [
              "4252"
            ]
          },
          "metadata": {},
          "execution_count": 88
        }
      ]
    },
    {
      "cell_type": "markdown",
      "source": [
        "AI"
      ],
      "metadata": {
        "id": "u2PtwIdVfLp1"
      }
    },
    {
      "cell_type": "code",
      "source": [
        "# prompt: เขียน function คำนวณวินาที จาก เวลาที่ใส่เข้ามา\n",
        "\n",
        "def convert_to_seconds(time_str):\n",
        "    \"\"\"Converts a time string (HH:MM:SS) to seconds.\"\"\"\n",
        "    h, m, s = map(int, time_str.split(':'))\n",
        "    return h * 3600 + m * 60 + s\n",
        "\n",
        "def calculate_time_difference_in_seconds(time_range_str):\n",
        "    \"\"\"\n",
        "    Calculates the time difference in seconds between two time points in a string\n",
        "    formatted as 'HH:MM:SS-HH:MM:SS'.\n",
        "    \"\"\"\n",
        "    start_time_str, end_time_str = time_range_str.split('-')\n",
        "    start_seconds = convert_to_seconds(start_time_str)\n",
        "    end_seconds = convert_to_seconds(end_time_str)\n",
        "\n",
        "    # Handle cases where the end time is on the next day\n",
        "    if end_seconds < start_seconds:\n",
        "        end_seconds += 24 * 3600  # Add seconds in a day\n",
        "\n",
        "    return end_seconds - start_seconds\n",
        "\n",
        "# Example usage:\n",
        "time_input = '12:30:15-13:41:07'\n",
        "difference = calculate_time_difference_in_seconds(time_input)\n",
        "print(f\"The time difference is {difference} seconds.\")\n",
        "\n",
        "time_input_next_day = '23:00:00-01:00:00'\n",
        "difference_next_day = calculate_time_difference_in_seconds(time_input_next_day)\n",
        "print(f\"The time difference is {difference_next_day} seconds.\")\n"
      ],
      "metadata": {
        "colab": {
          "base_uri": "https://localhost:8080/"
        },
        "id": "DZG87sIabf-u",
        "outputId": "ae1f07f1-1bfa-4cc8-869b-e74da5858395"
      },
      "execution_count": null,
      "outputs": [
        {
          "output_type": "stream",
          "name": "stdout",
          "text": [
            "The time difference is 4252 seconds.\n",
            "The time difference is 7200 seconds.\n"
          ]
        }
      ]
    },
    {
      "cell_type": "markdown",
      "source": [
        "# Quiz6\n",
        "เขียน function ของ HW2 -> มีการใช้ค่า default ของ input โดยถ้าวันที่กรอกเป็นวันเดียวกันให้ไม่ต้องกรอกเลยหรือกรอกแค่ 1 ตัว\n",
        "\n",
        "commit \"quiz6\""
      ],
      "metadata": {
        "id": "3O6hi5GUgAmH"
      }
    },
    {
      "cell_type": "code",
      "source": [
        "# prompt: เขียนฟังก์ชันคำนวณวินาที จาก เวลาที่ใส่เข้ามา\n",
        "\n",
        "def time_to_seconds(time_str):\n",
        "    \"\"\"Converts a time string (HH:MM:SS) to seconds.\"\"\"\n",
        "    h, m, s = map(int, time_str.split(':'))\n",
        "    return h * 3600 + m * 60 + s"
      ],
      "metadata": {
        "id": "-_HUW6jof26P"
      },
      "execution_count": null,
      "outputs": []
    },
    {
      "cell_type": "code",
      "source": [
        "# prompt: แสดงการใช้งาน\n",
        "\n",
        "def quiz6(time_range_str, day2_str=None):\n",
        "    \"\"\"\n",
        "    Calculates the time and day difference between two points in time.\n",
        "\n",
        "    Args:\n",
        "        time_range_str (str): A string formatted as 'HH:MM:SS, Day1 - HH:MM:SS'.\n",
        "                              Day1 is the start day.\n",
        "        day2_str (str, optional): The end day. If None, it's assumed to be the same as Day1.\n",
        "\n",
        "    Returns:\n",
        "        tuple: A tuple containing the day difference and the second difference.\n",
        "    \"\"\"\n",
        "    day_order = {\n",
        "        'Sunday': 0, 'Monday': 1, 'Tuesday': 2, 'Wednesday': 3,\n",
        "        'Thursday': 4, 'Friday': 5, 'Saturday': 6\n",
        "    }\n",
        "\n",
        "    # Separate time and day for the start\n",
        "    start_str, end_part = time_range_str.strip().split(' - ')\n",
        "    time1_str, day1_str = start_str.split(', ')\n",
        "\n",
        "    # Separate time for the end\n",
        "    time2_str = end_part.split(', ')[0]\n",
        "\n",
        "    # If day2_str is not provided, assume it's the same as day1_str\n",
        "    if day2_str is None:\n",
        "        day2_str = day1_str\n",
        "\n",
        "    # Convert times to seconds\n",
        "    t1_sec = time_to_seconds(time1_str)\n",
        "    t2_sec = time_to_seconds(time2_str)\n",
        "\n",
        "    # Calculate day difference\n",
        "    day_diff = (day_order[day2_str] - day_order[day1_str]) % 7\n",
        "\n",
        "    # Calculate second difference\n",
        "    sec_diff = t2_sec - t1_sec\n",
        "\n",
        "    # Adjust for negative second difference by borrowing a day\n",
        "    if sec_diff < 0:\n",
        "        sec_diff += 86400  # Add seconds in a day\n",
        "        day_diff -= 1\n",
        "        if day_diff < 0: # Handle wrapping around the week\n",
        "            day_diff += 7\n",
        "\n",
        "    return day_diff, sec_diff\n",
        "\n",
        "# Example usage:\n",
        "# Same day\n",
        "d, s = quiz6(\"12:30:15, Wednesday - 13:41:07\")\n",
        "print(f\"Same day: {d} วัน {s} วินาที\")\n",
        "\n",
        "# Next day\n",
        "d, s = quiz6(\"12:53:15, Monday - 00:59:25\", day2_str='Tuesday')\n",
        "print(f\"Next day: {d} วัน {s} วินาที\")\n",
        "\n",
        "# Multiple days difference\n",
        "d, s = quiz6(\"16:06:09, Sunday - 11:11:11\", day2_str='Tuesday')\n",
        "print(f\"Multiple days: {d} วัน {s} วินาที\")\n"
      ],
      "metadata": {
        "colab": {
          "base_uri": "https://localhost:8080/"
        },
        "id": "NEipcMolgvFQ",
        "outputId": "347a5518-0d1e-49b7-db44-b6cee54cd79a"
      },
      "execution_count": null,
      "outputs": [
        {
          "output_type": "stream",
          "name": "stdout",
          "text": [
            "Same day: 0 วัน 4252 วินาที\n",
            "Next day: 0 วัน 43570 วินาที\n",
            "Multiple days: 1 วัน 68702 วินาที\n"
          ]
        }
      ]
    },
    {
      "cell_type": "markdown",
      "source": [
        "# ตัวอย่าง quiz 6"
      ],
      "metadata": {
        "id": "ZubjeVAmQJ8q"
      }
    },
    {
      "cell_type": "code",
      "source": [],
      "metadata": {
        "id": "TGEb6BBLQSBO"
      },
      "execution_count": null,
      "outputs": []
    },
    {
      "cell_type": "code",
      "source": [
        "##########################################################"
      ],
      "metadata": {
        "id": "qsu1X9eXhM7l"
      },
      "execution_count": null,
      "outputs": []
    },
    {
      "cell_type": "code",
      "source": [
        "# ตารางลำดับวัน\n",
        "day_order = {\n",
        "    'Sunday': 0, 'Monday': 1, 'Tuesday': 2, 'Wednesday': 3,\n",
        "    'Thursday': 4, 'Friday': 5, 'Saturday': 6\n",
        "}\n",
        "\n",
        "# ฟังก์ชันแปลงเวลาเป็นวินาที\n",
        "def time_to_seconds(t):\n",
        "    h, m, s = map(int, t.split(\":\"))\n",
        "    return h * 3600 + m * 60 + s\n",
        "\n",
        "# ฟังก์ชันหลักของ quiz6\n",
        "def quiz6(time1, time2, day1, day2=None):\n",
        "    # ถ้า day2 ไม่ได้ใส่มา → สมมุติว่าเป็นวันเดียวกับ day1\n",
        "    if day2 is None:\n",
        "        day2 = day1\n",
        "\n",
        "    t1_sec = time_to_seconds(time1)\n",
        "    t2_sec = time_to_seconds(time2)\n",
        "\n",
        "    day_diff = (day_order[day2] - day_order[day1]) % 7\n",
        "    total_sec = day_diff * 86400 + (t2_sec - t1_sec)\n",
        "\n",
        "    # ถ้าเวลาในวันถัดไปน้อยกว่า → ข้ามวัน\n",
        "    if total_sec < 0:\n",
        "        total_sec += 86400\n",
        "\n",
        "    return total_sec\n"
      ],
      "metadata": {
        "id": "7m4dBJM9hQOg"
      },
      "execution_count": null,
      "outputs": []
    },
    {
      "cell_type": "code",
      "source": [
        "# ตัวอย่าง 1: ต่างวัน\n",
        "print(\"Case 1:\", quiz6(\"12:30:15\", \"13:41:07\", \"Wednesday\", \"Thursday\"))  # → 90,052 วินาที\n",
        "\n",
        "# ตัวอย่าง 2: ต่างวัน แต่ไม่ได้กรอก day2 (ให้ default)\n",
        "print(\"Case 2:\", quiz6(\"12:53:15\", \"00:59:25\", \"Monday\", \"Tuesday\"))  # → 43,570 วินาที\n",
        "\n",
        "# ตัวอย่าง 3: ข้าม 2 วัน\n",
        "print(\"Case 3:\", quiz6(\"16:06:09\", \"11:11:11\", \"Sunday\", \"Tuesday\"))  # → 155,402 วินาที\n"
      ],
      "metadata": {
        "colab": {
          "base_uri": "https://localhost:8080/"
        },
        "id": "NR2ES-yihUjF",
        "outputId": "c7dd8d95-0bd0-44c6-d74e-7403a3a85e86"
      },
      "execution_count": null,
      "outputs": [
        {
          "output_type": "stream",
          "name": "stdout",
          "text": [
            "Case 1: 90652\n",
            "Case 2: 43570\n",
            "Case 3: 155102\n"
          ]
        }
      ]
    },
    {
      "cell_type": "markdown",
      "source": [
        "# Quiz3.5\n",
        "\n",
        "รับ input 2 ตัว โดยตั้งค่า default time1 เป็น 00:00:00"
      ],
      "metadata": {
        "id": "GMMe5F1zgNV5"
      }
    },
    {
      "cell_type": "markdown",
      "source": [
        "## HW2\n",
        "\n",
        "วนลูป หา ช่วงเวลาเป็นวินาที ที่ห่างกันระหว่า time1 และ time2 ต่อไปนี้\n",
        "\n",
        "\n",
        "1. 18:09:10 - 18:25:10\n",
        "2. 13:38:39 - 23:54:39\n",
        "3. 16:49:58 - 18:05:58\n",
        "4. 21:49:10 - 22:24:10\n",
        "5. 08:52:21 - 09:25:21\n",
        "6. 06:56:26 - 07:49:26\n",
        "7. 12:08:05 - 12:43:05\n",
        "8. 01:48:38 - 07:18:38\n",
        "9. 08:51:21 - 10:17:21\n",
        "10. 17:05:17 - 18:09:17"
      ],
      "metadata": {
        "id": "Y60TMz5ijb_S"
      }
    },
    {
      "cell_type": "markdown",
      "source": [
        "#inspect existing function\n",
        "\n",
        "- https://www.w3schools.com/python/ref_func_print.asp\n",
        "\n",
        "- https://scikit-learn.org/stable/modules/generated/sklearn.tree.DecisionTreeClassifier.html#sklearn.tree.DecisionTreeClassifier"
      ],
      "metadata": {
        "id": "f9HeBWgBj28M"
      }
    },
    {
      "cell_type": "code",
      "source": [
        "print('abc','def')"
      ],
      "metadata": {
        "colab": {
          "base_uri": "https://localhost:8080/"
        },
        "id": "SoNAPINOkAyF",
        "outputId": "fd07845f-b1dd-4427-9aff-dcb89d0eb102"
      },
      "execution_count": null,
      "outputs": [
        {
          "output_type": "stream",
          "name": "stdout",
          "text": [
            "abc def\n"
          ]
        }
      ]
    },
    {
      "cell_type": "code",
      "source": [],
      "metadata": {
        "id": "17OtlBZMkBL-"
      },
      "execution_count": null,
      "outputs": []
    },
    {
      "cell_type": "code",
      "source": [],
      "metadata": {
        "id": "376_V90tkBTx"
      },
      "execution_count": null,
      "outputs": []
    },
    {
      "cell_type": "code",
      "source": [],
      "metadata": {
        "id": "dGmG0sMOkBa8"
      },
      "execution_count": null,
      "outputs": []
    },
    {
      "cell_type": "code",
      "source": [],
      "metadata": {
        "id": "qbncBy1lkB1_"
      },
      "execution_count": null,
      "outputs": []
    },
    {
      "cell_type": "markdown",
      "metadata": {
        "id": "UB5fTAr3bPqg"
      },
      "source": [
        "# LOOP การวนซ้ำ"
      ]
    },
    {
      "cell_type": "markdown",
      "metadata": {
        "id": "gpIwjDjg0gfJ"
      },
      "source": [
        "for เป็นคำที่ใช้บอก python ว่าเรากำลังเขียน loop\n",
        "โดย for จะวนดึงสมาชิกจาก ```listA``` มาทำ process ```do_something```"
      ]
    },
    {
      "cell_type": "markdown",
      "metadata": {
        "id": "6XS2wO4_bPqg"
      },
      "source": [
        "```python\n",
        "    for each_member in listA :\n",
        "        do_something\n",
        "```"
      ]
    },
    {
      "cell_type": "markdown",
      "metadata": {
        "id": "d7kQ2AEcbPqg"
      },
      "source": [
        "#### คำสั่ง for เป็นคำสั่งวนซ้ำที่ใช้ควบคุมการทำงานซ้ำๆ ในจำนวนรอบที่แน่นอน"
      ]
    },
    {
      "cell_type": "code",
      "metadata": {
        "colab": {
          "base_uri": "https://localhost:8080/"
        },
        "id": "NcT-s7TEbPqg",
        "outputId": "c67bd69b-f7ee-4047-d516-52a8706f84bb"
      },
      "source": [
        "for i in [1,2,3] : ### หน้าที่ของ for คือดึงสมาชิกเข้ามา\n",
        "    o = i**2\n",
        "    print (f'this member = {i} after process = {o}')"
      ],
      "execution_count": null,
      "outputs": [
        {
          "output_type": "stream",
          "name": "stdout",
          "text": [
            "this member = 1 after process = 1\n",
            "this member = 2 after process = 4\n",
            "this member = 3 after process = 9\n"
          ]
        }
      ]
    },
    {
      "cell_type": "markdown",
      "metadata": {
        "id": "YbnFaiU2bPqg"
      },
      "source": [
        "#### ตัวอย่างการใช้คำสั่ง for ในการวนซ้ำค่าของ i เมื่อ i คือ 'Thanapong' และคำสั่ง print(f'{i} -> /') เพื่อกำหนดให้ผลลัพธ์แสดงสัญลักษณ์ -> /  จากนั้นเพิ่มคำสั่ง print(' ') อีกครั้งเพื่อให้ผลลัพธ์มีการเว้นวรรค¶"
      ]
    },
    {
      "cell_type": "code",
      "metadata": {
        "id": "kstoI_CEbPqh",
        "outputId": "4bdd95f9-1294-472b-8130-8c927f3d84e8",
        "colab": {
          "base_uri": "https://localhost:8080/"
        }
      },
      "source": [
        "for i in 'Thanapong':\n",
        "    print(f'{i} -> / ' ) ### {i} -> / เป็น สมาชิกใน i ตามด้วย -> /"
      ],
      "execution_count": null,
      "outputs": [
        {
          "output_type": "stream",
          "name": "stdout",
          "text": [
            "T -> / \n",
            "h -> / \n",
            "a -> / \n",
            "n -> / \n",
            "a -> / \n",
            "p -> / \n",
            "o -> / \n",
            "n -> / \n",
            "g -> / \n"
          ]
        }
      ]
    },
    {
      "cell_type": "code",
      "metadata": {
        "id": "mQmh0Ip-V8qR",
        "outputId": "c142299f-f805-437a-955c-0dff7610c284",
        "colab": {
          "base_uri": "https://localhost:8080/"
        }
      },
      "source": [
        "for i in 'Thanapong':\n",
        "    print(f'{i} -> / ' ,end = '') #สั่งให้ print แบบ ไม่เว้นบรรทัด"
      ],
      "execution_count": null,
      "outputs": [
        {
          "output_type": "stream",
          "name": "stdout",
          "text": [
            "T -> / h -> / a -> / n -> / a -> / p -> / o -> / n -> / g -> / "
          ]
        }
      ]
    },
    {
      "cell_type": "markdown",
      "metadata": {
        "id": "3_I0IHOqXMIr"
      },
      "source": [
        "## สร้าง list ตัวเลขแบบอัตโนมัติ  range()"
      ]
    },
    {
      "cell_type": "code",
      "metadata": {
        "id": "ensAuLXBW-0P",
        "outputId": "5bd13848-2209-445e-ba8e-9ee5deebe03c",
        "colab": {
          "base_uri": "https://localhost:8080/"
        }
      },
      "source": [
        "range5_output = range(5)\n",
        "print(list(range5_output))"
      ],
      "execution_count": null,
      "outputs": [
        {
          "output_type": "stream",
          "name": "stdout",
          "text": [
            "[0, 1, 2, 3, 4]\n"
          ]
        }
      ]
    },
    {
      "cell_type": "code",
      "metadata": {
        "id": "r8JXggPKXrEx",
        "outputId": "bf29c78d-fb8b-4686-8279-3c2151772d7a",
        "colab": {
          "base_uri": "https://localhost:8080/"
        }
      },
      "source": [
        "for i in range(100):\n",
        "    print('งง',end=' ')"
      ],
      "execution_count": null,
      "outputs": [
        {
          "output_type": "stream",
          "name": "stdout",
          "text": [
            "งง งง งง งง งง งง งง งง งง งง งง งง งง งง งง งง งง งง งง งง งง งง งง งง งง งง งง งง งง งง งง งง งง งง งง งง งง งง งง งง งง งง งง งง งง งง งง งง งง งง งง งง งง งง งง งง งง งง งง งง งง งง งง งง งง งง งง งง งง งง งง งง งง งง งง งง งง งง งง งง งง งง งง งง งง งง งง งง งง งง งง งง งง งง งง งง งง งง งง งง "
          ]
        }
      ]
    },
    {
      "cell_type": "code",
      "metadata": {
        "id": "RLvhNqw8YpKa",
        "outputId": "ae07855b-c6bf-4855-91da-13c006f660a0",
        "colab": {
          "base_uri": "https://localhost:8080/"
        }
      },
      "source": [
        "list(range(1,11)) #เริ่มต้นเป็นวงทึบ จบเป็นวงกลมโปร่ง เหมือน list slicing"
      ],
      "execution_count": null,
      "outputs": [
        {
          "output_type": "execute_result",
          "data": {
            "text/plain": [
              "[1, 2, 3, 4, 5, 6, 7, 8, 9, 10]"
            ]
          },
          "metadata": {},
          "execution_count": 10
        }
      ]
    },
    {
      "cell_type": "code",
      "metadata": {
        "id": "MqXQ9NLGcW-r",
        "outputId": "f045d269-1526-4d93-cc4d-1e43908bf2c7",
        "colab": {
          "base_uri": "https://localhost:8080/"
        }
      },
      "source": [
        "list(range(-3,20,4)) # จุดเริ่มต้นของลำดับ คือ เริ่มจาก -3, จุดสิ้นสุด ไม่รวม ค่านี้ คือ จะหยุดก่อนถึง 20, ระยะห่างระหว่างแต่ละค่าคือ 4 = start stop step"
      ],
      "execution_count": null,
      "outputs": [
        {
          "output_type": "execute_result",
          "data": {
            "text/plain": [
              "[-3, 1, 5, 9, 13, 17]"
            ]
          },
          "metadata": {},
          "execution_count": 12
        }
      ]
    },
    {
      "cell_type": "markdown",
      "source": [
        "# วนลูปโดยสนใจสมาชิกและลำดับ"
      ],
      "metadata": {
        "id": "gGU8yMf_AVh7"
      }
    },
    {
      "cell_type": "code",
      "source": [
        "index = 0\n",
        "for i in 'Patcharee':\n",
        "    print(f'สมาชิกคือ {i} เป็นลำดับที่ {index}')\n",
        "    index += 1"
      ],
      "metadata": {
        "colab": {
          "base_uri": "https://localhost:8080/"
        },
        "id": "81QOa93LAeWx",
        "outputId": "784e37af-c758-45e1-b306-424068e2d47b"
      },
      "execution_count": null,
      "outputs": [
        {
          "output_type": "stream",
          "name": "stdout",
          "text": [
            "สมาชิกคือ P เป็นลำดับที่ 0\n",
            "สมาชิกคือ a เป็นลำดับที่ 1\n",
            "สมาชิกคือ t เป็นลำดับที่ 2\n",
            "สมาชิกคือ c เป็นลำดับที่ 3\n",
            "สมาชิกคือ h เป็นลำดับที่ 4\n",
            "สมาชิกคือ a เป็นลำดับที่ 5\n",
            "สมาชิกคือ r เป็นลำดับที่ 6\n",
            "สมาชิกคือ e เป็นลำดับที่ 7\n",
            "สมาชิกคือ e เป็นลำดับที่ 8\n"
          ]
        }
      ]
    },
    {
      "cell_type": "code",
      "source": [
        "index = 0\n",
        "for i in 'Thanapong':\n",
        "    print(f'สมาชิกคือ {i} เป็นลำดับที่ {index}')\n",
        "    index += 1"
      ],
      "metadata": {
        "colab": {
          "base_uri": "https://localhost:8080/"
        },
        "outputId": "1356a7d5-2b82-4d45-e284-1b04bf9a4e06",
        "id": "B0IuZVRiA-K1"
      },
      "execution_count": null,
      "outputs": [
        {
          "output_type": "stream",
          "name": "stdout",
          "text": [
            "สมาชิกคือ T เป็นลำดับที่ 0\n",
            "สมาชิกคือ h เป็นลำดับที่ 1\n",
            "สมาชิกคือ a เป็นลำดับที่ 2\n",
            "สมาชิกคือ n เป็นลำดับที่ 3\n",
            "สมาชิกคือ a เป็นลำดับที่ 4\n",
            "สมาชิกคือ p เป็นลำดับที่ 5\n",
            "สมาชิกคือ o เป็นลำดับที่ 6\n",
            "สมาชิกคือ n เป็นลำดับที่ 7\n",
            "สมาชิกคือ g เป็นลำดับที่ 8\n"
          ]
        }
      ]
    },
    {
      "cell_type": "code",
      "source": [
        "for index,i in enumerate('Thanapong'):\n",
        "    print(f'สมาชิกคือ {i} เป็นลำดับที่ {index}')"
      ],
      "metadata": {
        "colab": {
          "base_uri": "https://localhost:8080/"
        },
        "id": "VUEfUyYtBDj5",
        "outputId": "e44aa78a-7f65-4ae0-b80f-d31c025d51a1"
      },
      "execution_count": null,
      "outputs": [
        {
          "output_type": "stream",
          "name": "stdout",
          "text": [
            "สมาชิกคือ T เป็นลำดับที่ 0\n",
            "สมาชิกคือ h เป็นลำดับที่ 1\n",
            "สมาชิกคือ a เป็นลำดับที่ 2\n",
            "สมาชิกคือ n เป็นลำดับที่ 3\n",
            "สมาชิกคือ a เป็นลำดับที่ 4\n",
            "สมาชิกคือ p เป็นลำดับที่ 5\n",
            "สมาชิกคือ o เป็นลำดับที่ 6\n",
            "สมาชิกคือ n เป็นลำดับที่ 7\n",
            "สมาชิกคือ g เป็นลำดับที่ 8\n"
          ]
        }
      ]
    },
    {
      "cell_type": "markdown",
      "metadata": {
        "id": "vPcR4tJebPqi"
      },
      "source": [
        "### loop in loop\n",
        "#### สามารถใช้ for loop ซ้อนกันสองรอบได้¶"
      ]
    },
    {
      "cell_type": "code",
      "metadata": {
        "id": "TKRcpd5DbPqi",
        "outputId": "996a2f38-8822-4ec9-86ca-904121272538",
        "colab": {
          "base_uri": "https://localhost:8080/"
        }
      },
      "source": [
        "for name1 in  range(2,5): #(2, 3, 4)\n",
        "    print(f'now name1 = {name1}')\n",
        "    for name2 in  range(1,13):\n",
        "        print('  ', name1,' x ',name2,' = ',name1*name2)\n",
        "    print('the inner loop is end')"
      ],
      "execution_count": null,
      "outputs": [
        {
          "output_type": "stream",
          "name": "stdout",
          "text": [
            "now name1 = 2\n",
            "   2  x  1  =  2\n",
            "   2  x  2  =  4\n",
            "   2  x  3  =  6\n",
            "   2  x  4  =  8\n",
            "   2  x  5  =  10\n",
            "   2  x  6  =  12\n",
            "   2  x  7  =  14\n",
            "   2  x  8  =  16\n",
            "   2  x  9  =  18\n",
            "   2  x  10  =  20\n",
            "   2  x  11  =  22\n",
            "   2  x  12  =  24\n",
            "the inner loop is end\n",
            "now name1 = 3\n",
            "   3  x  1  =  3\n",
            "   3  x  2  =  6\n",
            "   3  x  3  =  9\n",
            "   3  x  4  =  12\n",
            "   3  x  5  =  15\n",
            "   3  x  6  =  18\n",
            "   3  x  7  =  21\n",
            "   3  x  8  =  24\n",
            "   3  x  9  =  27\n",
            "   3  x  10  =  30\n",
            "   3  x  11  =  33\n",
            "   3  x  12  =  36\n",
            "the inner loop is end\n",
            "now name1 = 4\n",
            "   4  x  1  =  4\n",
            "   4  x  2  =  8\n",
            "   4  x  3  =  12\n",
            "   4  x  4  =  16\n",
            "   4  x  5  =  20\n",
            "   4  x  6  =  24\n",
            "   4  x  7  =  28\n",
            "   4  x  8  =  32\n",
            "   4  x  9  =  36\n",
            "   4  x  10  =  40\n",
            "   4  x  11  =  44\n",
            "   4  x  12  =  48\n",
            "the inner loop is end\n"
          ]
        }
      ]
    },
    {
      "cell_type": "markdown",
      "source": [
        "# quiz 7 วนลูป แสดงค่า ตัวเลขออกมาเป็นสามเหลี่ยม ตามตัวอย่างนี้\n",
        "\n",
        "ex:\n",
        "\n",
        "1\n",
        "\n",
        "2 4\n",
        "\n",
        "3 6 9\n",
        "\n",
        "4 8 12 16\n",
        "\n",
        "5 10 15 20 25"
      ],
      "metadata": {
        "id": "NWDly0qDCmPp"
      }
    },
    {
      "cell_type": "code",
      "source": [
        "n = 5  # หรือใส่จำนวนแถวที่ต้องการ\n",
        "for i in range(1, n + 1):        # แถวที่ i\n",
        "    for j in range(1, i + 1):    # j ตัวในแถวนั้น\n",
        "        print(i * j, end=' ')\n",
        "    print()"
      ],
      "metadata": {
        "colab": {
          "base_uri": "https://localhost:8080/"
        },
        "id": "jkmLJmiTDvgi",
        "outputId": "851a79aa-6775-45cf-be80-964051da5478"
      },
      "execution_count": null,
      "outputs": [
        {
          "output_type": "stream",
          "name": "stdout",
          "text": [
            "1 \n",
            "2 4 \n",
            "3 6 9 \n",
            "4 8 12 16 \n",
            "5 10 15 20 25 \n"
          ]
        }
      ]
    },
    {
      "cell_type": "code",
      "source": [
        "for i in range(1,6):\n",
        "    for j in range(1,i+1):\n",
        "        print(i*j,end=' ')\n",
        "    print()"
      ],
      "metadata": {
        "colab": {
          "base_uri": "https://localhost:8080/"
        },
        "id": "I5FJBru5CfhL",
        "outputId": "5388bcdf-be03-41fb-a428-2a95e9d6f590"
      },
      "execution_count": null,
      "outputs": [
        {
          "output_type": "stream",
          "name": "stdout",
          "text": [
            "1 \n",
            "2 4 \n",
            "3 6 9 \n",
            "4 8 12 16 \n",
            "5 10 15 20 25 \n"
          ]
        }
      ]
    },
    {
      "cell_type": "markdown",
      "metadata": {
        "id": "7-FAZit8bPqi"
      },
      "source": [
        "### loop in function\n",
        "#### การวนลูปในฟังก์ชั่น¶"
      ]
    },
    {
      "cell_type": "code",
      "metadata": {
        "id": "S0r5yhbDbPqi"
      },
      "source": [
        "def print_feelings(I,friendS,feeling = 'คิดถึง'):\n",
        "    for friend in friendS:\n",
        "        print(f'{I} {feeling} {friend}')"
      ],
      "execution_count": null,
      "outputs": []
    },
    {
      "cell_type": "code",
      "metadata": {
        "id": "_oVKj4SRfGS6"
      },
      "source": [
        "list_friends = ['พี่บูม','ดายน์','แตงโม','ฝน','พี่เจ็ท','น้องแคมป์']"
      ],
      "execution_count": null,
      "outputs": []
    },
    {
      "cell_type": "code",
      "metadata": {
        "id": "RepVZqu6bPqi",
        "outputId": "5ca85adc-56fa-4804-cc74-750850ab1b61",
        "colab": {
          "base_uri": "https://localhost:8080/"
        }
      },
      "source": [
        "print_feelings('เจมส์',list_friends)"
      ],
      "execution_count": null,
      "outputs": [
        {
          "output_type": "stream",
          "name": "stdout",
          "text": [
            "เจมส์ คิดถึง พี่บูม\n",
            "เจมส์ คิดถึง ดายน์\n",
            "เจมส์ คิดถึง แตงโม\n",
            "เจมส์ คิดถึง ฝน\n",
            "เจมส์ คิดถึง พี่เจ็ท\n",
            "เจมส์ คิดถึง น้องแคมป์\n"
          ]
        }
      ]
    },
    {
      "cell_type": "code",
      "metadata": {
        "id": "P20pDnVaf2vK",
        "outputId": "cb59f42c-9fb9-4d1b-8b99-58294130d44d",
        "colab": {
          "base_uri": "https://localhost:8080/"
        }
      },
      "source": [
        "print_feelings('เจมส์',list_friends,feeling='รัก')"
      ],
      "execution_count": null,
      "outputs": [
        {
          "output_type": "stream",
          "name": "stdout",
          "text": [
            "เจมส์ รัก พี่บูม\n",
            "เจมส์ รัก ดายน์\n",
            "เจมส์ รัก แตงโม\n",
            "เจมส์ รัก ฝน\n",
            "เจมส์ รัก พี่เจ็ท\n",
            "เจมส์ รัก น้องแคมป์\n"
          ]
        }
      ]
    },
    {
      "cell_type": "code",
      "metadata": {
        "id": "SzHamL8JhKG4",
        "outputId": "19fac0b6-f144-486a-8200-8e246090c9d1",
        "colab": {
          "base_uri": "https://localhost:8080/"
        }
      },
      "source": [
        "print_feelings('เจมส์',list_friends,'รัก')"
      ],
      "execution_count": null,
      "outputs": [
        {
          "output_type": "stream",
          "name": "stdout",
          "text": [
            "เจมส์ รัก พี่บูม\n",
            "เจมส์ รัก ดายน์\n",
            "เจมส์ รัก แตงโม\n",
            "เจมส์ รัก ฝน\n",
            "เจมส์ รัก พี่เจ็ท\n",
            "เจมส์ รัก น้องแคมป์\n"
          ]
        }
      ]
    },
    {
      "cell_type": "markdown",
      "source": [
        "จบ 24 มิย 67"
      ],
      "metadata": {
        "id": "GJAB4hnvnAX8"
      }
    },
    {
      "cell_type": "markdown",
      "source": [
        "**mine**"
      ],
      "metadata": {
        "id": "6xHi-EKxGilX"
      }
    },
    {
      "cell_type": "code",
      "source": [
        "def print_feelings(I,friendS,feeling = 'คิดถึง'):\n",
        "    for friend in friendS:\n",
        "        print(f'{I} {feeling} {friend}')"
      ],
      "metadata": {
        "id": "ilT2NKANGg-J"
      },
      "execution_count": null,
      "outputs": []
    },
    {
      "cell_type": "code",
      "source": [
        "list_friends = ['ปุณ','น้องปุณ','ปุณปุณ','หมาบ้า','ปุณกร','นกเงือก']"
      ],
      "metadata": {
        "id": "W6jQtCbLG4Kg"
      },
      "execution_count": null,
      "outputs": []
    },
    {
      "cell_type": "code",
      "source": [
        "print_feelings('แบมบี้',list_friends)"
      ],
      "metadata": {
        "colab": {
          "base_uri": "https://localhost:8080/"
        },
        "id": "LGSRBU4UHKBB",
        "outputId": "b755685c-237a-4b0f-ac2b-4a83188ba2b4"
      },
      "execution_count": null,
      "outputs": [
        {
          "output_type": "stream",
          "name": "stdout",
          "text": [
            "แบมบี้ คิดถึง ปุณ\n",
            "แบมบี้ คิดถึง น้องปุณ\n",
            "แบมบี้ คิดถึง ปุณปุณ\n",
            "แบมบี้ คิดถึง หมาบ้า\n",
            "แบมบี้ คิดถึง ปุณกร\n",
            "แบมบี้ คิดถึง นกเงือก\n"
          ]
        }
      ]
    },
    {
      "cell_type": "code",
      "source": [
        "####################################################################################################################"
      ],
      "metadata": {
        "id": "UbFNeIBcHWh3"
      },
      "execution_count": null,
      "outputs": []
    },
    {
      "cell_type": "markdown",
      "source": [
        "## Dictionary (Data Structure)\n",
        "\n",
        "โครงสร้างข้อมูลที่จัดเก็บข้อมูลโดยการอ้างอิงโดย text\n",
        "\n",
        "วงเล็บ ```{``` ```}``` Curly Brackets"
      ],
      "metadata": {
        "id": "VreW55vmVRcb"
      }
    },
    {
      "cell_type": "code",
      "source": [
        "Ex_dict_A = {'memberA':[1,2,3],'memberB':8,'memberC':'abc'}"
      ],
      "metadata": {
        "id": "i-oH98ilV1RV"
      },
      "execution_count": null,
      "outputs": []
    },
    {
      "cell_type": "code",
      "source": [
        "Ex_dict_A"
      ],
      "metadata": {
        "colab": {
          "base_uri": "https://localhost:8080/"
        },
        "id": "kIwdnWuqWr58",
        "outputId": "28a29922-b74f-4464-ba02-3c56c55263d1"
      },
      "execution_count": null,
      "outputs": [
        {
          "output_type": "execute_result",
          "data": {
            "text/plain": [
              "{'memberA': [1, 2, 3], 'memberB': 8, 'memberC': 'abc'}"
            ]
          },
          "metadata": {},
          "execution_count": 32
        }
      ]
    },
    {
      "cell_type": "code",
      "source": [
        "Ex_dict_A['memberA']"
      ],
      "metadata": {
        "colab": {
          "base_uri": "https://localhost:8080/"
        },
        "id": "J4yy6oaXW4he",
        "outputId": "4ed3c893-1c85-471b-c257-abfa4da69f8c"
      },
      "execution_count": null,
      "outputs": [
        {
          "output_type": "execute_result",
          "data": {
            "text/plain": [
              "[1, 2, 3]"
            ]
          },
          "metadata": {},
          "execution_count": 33
        }
      ]
    },
    {
      "cell_type": "code",
      "source": [
        "Ex_dict_A['memberA'][1]"
      ],
      "metadata": {
        "colab": {
          "base_uri": "https://localhost:8080/"
        },
        "id": "cZjtUbdnXZK-",
        "outputId": "2ecbb211-eabc-4853-c168-5b047adf310c"
      },
      "execution_count": null,
      "outputs": [
        {
          "output_type": "execute_result",
          "data": {
            "text/plain": [
              "2"
            ]
          },
          "metadata": {},
          "execution_count": 34
        }
      ]
    },
    {
      "cell_type": "markdown",
      "metadata": {
        "id": "vwK7RmRJbPqj"
      },
      "source": [
        "### looping in dict\n",
        "#### ทำการวนลูปในค่า dict โดยที่เรากำหนดตัว key และvalueขึ้นมา ได้ดังนี้\n"
      ]
    },
    {
      "cell_type": "code",
      "metadata": {
        "id": "HI0F-4HobPqj",
        "outputId": "8271a20e-608e-47eb-ce47-e3248aa6e697",
        "colab": {
          "base_uri": "https://localhost:8080/"
        }
      },
      "source": [
        "name_grade = {'พันทิพา' : 'B','ศุภนิตา' : 'C','ปนัดดา' : 'A','ทรงกลด' : 'F'}\n",
        "name_grade"
      ],
      "execution_count": null,
      "outputs": [
        {
          "output_type": "execute_result",
          "data": {
            "text/plain": [
              "{'พันทิพา': 'B', 'ศุภนิตา': 'C', 'ปนัดดา': 'A', 'ทรงกลด': 'F'}"
            ]
          },
          "metadata": {},
          "execution_count": 35
        }
      ]
    },
    {
      "cell_type": "code",
      "metadata": {
        "id": "jWf8aBmpbPqj",
        "outputId": "7c200856-0007-47da-b644-6f578e625298",
        "colab": {
          "base_uri": "https://localhost:8080/",
          "height": 35
        }
      },
      "source": [
        "name_grade['ปนัดดา']"
      ],
      "execution_count": null,
      "outputs": [
        {
          "output_type": "execute_result",
          "data": {
            "text/plain": [
              "'A'"
            ],
            "application/vnd.google.colaboratory.intrinsic+json": {
              "type": "string"
            }
          },
          "metadata": {},
          "execution_count": 36
        }
      ]
    },
    {
      "cell_type": "code",
      "source": [
        "name_grade.keys()"
      ],
      "metadata": {
        "colab": {
          "base_uri": "https://localhost:8080/"
        },
        "id": "0tXZc6kgYPgm",
        "outputId": "181e9142-7ed4-4b46-ce03-b8dd33d09636"
      },
      "execution_count": null,
      "outputs": [
        {
          "output_type": "execute_result",
          "data": {
            "text/plain": [
              "dict_keys(['พันทิพา', 'ศุภนิตา', 'ปนัดดา', 'ทรงกลด'])"
            ]
          },
          "metadata": {},
          "execution_count": 37
        }
      ]
    },
    {
      "cell_type": "code",
      "source": [
        "name_grade.values()"
      ],
      "metadata": {
        "colab": {
          "base_uri": "https://localhost:8080/"
        },
        "id": "zEqstk33YRxp",
        "outputId": "25deeb26-e760-4a3a-c185-2193ea662d80"
      },
      "execution_count": null,
      "outputs": [
        {
          "output_type": "execute_result",
          "data": {
            "text/plain": [
              "dict_values(['B', 'C', 'A', 'F'])"
            ]
          },
          "metadata": {},
          "execution_count": 38
        }
      ]
    },
    {
      "cell_type": "code",
      "metadata": {
        "scrolled": true,
        "id": "eDqhoebhbPqj",
        "outputId": "df8fe6a7-3093-4d83-de0c-0c88714292f2",
        "colab": {
          "base_uri": "https://localhost:8080/"
        }
      },
      "source": [
        "for i in name_grade.keys():\n",
        "    print(i)"
      ],
      "execution_count": null,
      "outputs": [
        {
          "output_type": "stream",
          "name": "stdout",
          "text": [
            "พันทิพา\n",
            "ศุภนิตา\n",
            "ปนัดดา\n",
            "ทรงกลด\n"
          ]
        }
      ]
    },
    {
      "cell_type": "code",
      "metadata": {
        "id": "Imvq4faObPqj",
        "outputId": "469df1c0-d4bc-43f2-af9e-1a51117685c2",
        "colab": {
          "base_uri": "https://localhost:8080/"
        }
      },
      "source": [
        "for i in name_grade.keys():\n",
        "    print(f'{i} ได้เกรด {name_grade[i]}')"
      ],
      "execution_count": null,
      "outputs": [
        {
          "output_type": "stream",
          "name": "stdout",
          "text": [
            "พันทิพา ได้เกรด B\n",
            "ศุภนิตา ได้เกรด C\n",
            "ปนัดดา ได้เกรด A\n",
            "ทรงกลด ได้เกรด F\n"
          ]
        }
      ]
    },
    {
      "cell_type": "markdown",
      "source": [
        "## HW2 Example"
      ],
      "metadata": {
        "id": "CrnK1_WPaYv7"
      }
    },
    {
      "cell_type": "code",
      "source": [
        "time_list =  [\n",
        "    [\"18:09:10\", \"18:25:10\"],\n",
        "    [\"13:38:39\", \"23:54:39\"],\n",
        "    [\"16:49:58\", \"18:05:58\"],\n",
        "    [\"21:49:10\", \"22:24:10\"],\n",
        "    [\"08:52:21\", \"09:25:21\"],\n",
        "    [\"06:56:26\", \"07:49:26\"],\n",
        "    [\"12:08:05\", \"12:43:05\"],\n",
        "    [\"01:48:38\", \"07:18:38\"],\n",
        "    [\"08:51:21\", \"10:17:21\"],\n",
        "    [\"17:05:17\", \"18:09:17\"]]\n",
        "\n",
        "def time_to_second(time1,time2):\n",
        "    time1_list = time1.split(':')\n",
        "    time2_list = time2.split(':')\n",
        "    time1_sec = int(time1_list[0])*3600 + int(time1_list[1])*60 + int(time1_list[2])\n",
        "    time2_sec = int(time2_list[0])*3600 + int(time2_list[1])*60 + int(time2_list[2])\n",
        "    return(time2_sec - time1_sec)\n",
        "\n",
        "for time1,time2 in time_list:\n",
        "  diff_seconds = time_to_second(time1,time2)\n",
        "  print(f\"Time difference between {time1} - {time2} is {diff_seconds} seconds\")"
      ],
      "metadata": {
        "colab": {
          "base_uri": "https://localhost:8080/"
        },
        "id": "BqYhLFc5aYa2",
        "outputId": "f9236d03-49be-4550-be34-5c96fe07560e"
      },
      "execution_count": null,
      "outputs": [
        {
          "output_type": "stream",
          "name": "stdout",
          "text": [
            "Time difference between 18:09:10 - 18:25:10 is 960 seconds\n",
            "Time difference between 13:38:39 - 23:54:39 is 36960 seconds\n",
            "Time difference between 16:49:58 - 18:05:58 is 4560 seconds\n",
            "Time difference between 21:49:10 - 22:24:10 is 2100 seconds\n",
            "Time difference between 08:52:21 - 09:25:21 is 1980 seconds\n",
            "Time difference between 06:56:26 - 07:49:26 is 3180 seconds\n",
            "Time difference between 12:08:05 - 12:43:05 is 2100 seconds\n",
            "Time difference between 01:48:38 - 07:18:38 is 19800 seconds\n",
            "Time difference between 08:51:21 - 10:17:21 is 5160 seconds\n",
            "Time difference between 17:05:17 - 18:09:17 is 3840 seconds\n"
          ]
        }
      ]
    },
    {
      "cell_type": "code",
      "source": [
        "time1 = \"18:09:10\"\n",
        "time2 = \"00:25:10\"\n",
        "diff_seconds = time_to_second(time1,time2)\n",
        "print(f\"Time difference between {time1} - {time2} is {diff_seconds} seconds\")"
      ],
      "metadata": {
        "colab": {
          "base_uri": "https://localhost:8080/"
        },
        "id": "lbz-CNPlbGYq",
        "outputId": "beb1c677-c7bb-4493-bdf2-672d4598153e"
      },
      "execution_count": null,
      "outputs": [
        {
          "output_type": "stream",
          "name": "stdout",
          "text": [
            "Time difference between 18:09:10 - 00:25:10 is -63840 seconds\n"
          ]
        }
      ]
    },
    {
      "cell_type": "markdown",
      "source": [
        "**mine**"
      ],
      "metadata": {
        "id": "fp-0OHhvKdBX"
      }
    },
    {
      "cell_type": "code",
      "source": [
        "# ฟังก์ชันแปลงเวลาและรองรับกรณีข้ามวัน\n",
        "def time_to_second(time1, time2):\n",
        "    # แยกเวลาเป็น [ชั่วโมง, นาที, วินาที]\n",
        "    h1, m1, s1 = map(int, time1.split(':'))\n",
        "    h2, m2, s2 = map(int, time2.split(':'))\n",
        "\n",
        "    # แปลงเป็นวินาที\n",
        "    time1_sec = h1 * 3600 + m1 * 60 + s1\n",
        "    time2_sec = h2 * 3600 + m2 * 60 + s2\n",
        "\n",
        "    # ถ้า time2 < time1 แสดงว่าข้ามวัน → บวก 24 ชั่วโมง (86400 วินาที)\n",
        "    if time2_sec < time1_sec:\n",
        "        time2_sec += 86400\n",
        "\n",
        "    return time2_sec - time1_sec\n",
        "\n",
        "# ลิสต์เวลาตัวอย่าง\n",
        "time_list =  [\n",
        "    [\"18:09:10\", \"18:25:10\"],\n",
        "    [\"13:38:39\", \"23:54:39\"],\n",
        "    [\"16:49:58\", \"18:05:58\"],\n",
        "    [\"21:49:10\", \"22:24:10\"],\n",
        "    [\"08:52:21\", \"09:25:21\"],\n",
        "    [\"06:56:26\", \"07:49:26\"],\n",
        "    [\"12:08:05\", \"12:43:05\"],\n",
        "    [\"01:48:38\", \"07:18:38\"],\n",
        "    [\"08:51:21\", \"10:17:21\"],\n",
        "    [\"17:05:17\", \"18:09:17\"],\n",
        "    [\"23:55:00\", \"00:15:00\"],  # ตัวอย่างข้ามวัน\n",
        "    [\"22:30:30\", \"01:00:00\"]   # ตัวอย่างข้ามวัน\n",
        "]"
      ],
      "metadata": {
        "id": "wxX6NjzcKcm_"
      },
      "execution_count": null,
      "outputs": []
    },
    {
      "cell_type": "code",
      "source": [
        "# วนลูปแสดงผลลัพธ์\n",
        "for time1, time2 in time_list:\n",
        "    diff_seconds = time_to_second(time1, time2)\n",
        "    print(f\"Time difference between {time1} - {time2} is {diff_seconds} seconds\")"
      ],
      "metadata": {
        "colab": {
          "base_uri": "https://localhost:8080/"
        },
        "id": "rtKrEgasLAf4",
        "outputId": "fe46add5-9390-420f-a773-00968b5b5b25"
      },
      "execution_count": null,
      "outputs": [
        {
          "output_type": "stream",
          "name": "stdout",
          "text": [
            "Time difference between 18:09:10 - 18:25:10 is 960 seconds\n",
            "Time difference between 13:38:39 - 23:54:39 is 36960 seconds\n",
            "Time difference between 16:49:58 - 18:05:58 is 4560 seconds\n",
            "Time difference between 21:49:10 - 22:24:10 is 2100 seconds\n",
            "Time difference between 08:52:21 - 09:25:21 is 1980 seconds\n",
            "Time difference between 06:56:26 - 07:49:26 is 3180 seconds\n",
            "Time difference between 12:08:05 - 12:43:05 is 2100 seconds\n",
            "Time difference between 01:48:38 - 07:18:38 is 19800 seconds\n",
            "Time difference between 08:51:21 - 10:17:21 is 5160 seconds\n",
            "Time difference between 17:05:17 - 18:09:17 is 3840 seconds\n",
            "Time difference between 23:55:00 - 00:15:00 is 1200 seconds\n",
            "Time difference between 22:30:30 - 01:00:00 is 8970 seconds\n"
          ]
        }
      ]
    },
    {
      "cell_type": "markdown",
      "metadata": {
        "id": "pLDGW8IobPqk"
      },
      "source": [
        "# Conditional statemet คือ ประโยคเงื่อนไข"
      ]
    },
    {
      "cell_type": "markdown",
      "source": [
        "ชนิดตัวแปรที่เกี่ยวข้อ Boolean (True,False)"
      ],
      "metadata": {
        "id": "TvK12jMwcVp8"
      }
    },
    {
      "cell_type": "code",
      "source": [
        "condition_1 = True\n",
        "condition_2 = False"
      ],
      "metadata": {
        "id": "JWxlKa-icUk6"
      },
      "execution_count": 4,
      "outputs": []
    },
    {
      "cell_type": "markdown",
      "metadata": {
        "id": "8_-zCLkrbPqk"
      },
      "source": [
        "### การวนลูปโดยมีเงื่อนไขต่างๆมาเกี่ยวข้อง โดยมี pattern ดังนี้\n"
      ]
    },
    {
      "cell_type": "markdown",
      "metadata": {
        "id": "ZQuWb-bybPqk"
      },
      "source": [
        "```Python\n",
        "if condition1 :\n",
        "    do something\n",
        "elif condition2 :  #elif คือ else if\n",
        "    do another thing\n",
        "else:\n",
        "    do ...\n",
        "```\n",
        "    "
      ]
    },
    {
      "cell_type": "code",
      "source": [
        "# mine\n",
        "score = -60\n",
        "if score >= 80:\n",
        "    print(\"Excellent\")\n",
        "elif score >= 60:\n",
        "    print(\"Pass\")\n",
        "else:\n",
        "    print(\"Fail\")"
      ],
      "metadata": {
        "colab": {
          "base_uri": "https://localhost:8080/"
        },
        "id": "vK0eKzazQubk",
        "outputId": "03835388-d052-45dd-a685-68f34da9feb2"
      },
      "execution_count": 7,
      "outputs": [
        {
          "output_type": "stream",
          "name": "stdout",
          "text": [
            "Fail\n"
          ]
        }
      ]
    },
    {
      "cell_type": "markdown",
      "metadata": {
        "id": "kUPdCRG7bPqk"
      },
      "source": [
        "## ==, !=,>=,<=,<,> Operator ของตัวเลข"
      ]
    },
    {
      "cell_type": "code",
      "source": [
        "def time_to_second(time1):\n",
        "    time1_list = time1.split(':')\n",
        "    time1_sec = int(time1_list[0])*3600 + int(time1_list[1])*60 + int(time1_list[2])\n",
        "    return time1_sec"
      ],
      "metadata": {
        "id": "9NIOIupSd_Zn"
      },
      "execution_count": 9,
      "outputs": []
    },
    {
      "cell_type": "code",
      "source": [
        "time_list =  [\n",
        "    [\"18:09:10\", \"18:25:10\"],\n",
        "    [\"13:38:39\", \"23:54:39\"],[\"16:49:58\", \"18:05:58\"],\n",
        "    [\"21:49:10\", \"22:24:10\"],[\"08:52:21\", \"09:25:21\"],\n",
        "    [\"06:56:26\", \"07:49:26\"],[\"12:08:05\", \"12:43:05\"],\n",
        "    [\"01:48:38\", \"07:18:38\"],[\"08:51:21\", \"10:17:21\"],\n",
        "    [\"17:05:17\", \"18:09:17\"],[\"18:51:21\", \"00:17:21\"],\n",
        "    [\"17:05:17\", \"11:09:17\"],]"
      ],
      "metadata": {
        "id": "CYcYQJ45d8Wx"
      },
      "execution_count": 10,
      "outputs": []
    },
    {
      "cell_type": "code",
      "source": [
        "for time1,time2 in time_list:\n",
        "\n",
        "    if time_to_second(time1) < time_to_second(time2): #ถ้า time1 น้อยกว่า time2\n",
        "        diff_seconds = time_to_second(time2) - time_to_second(time1)\n",
        "    else: #ถ้า time1 ไม่น้อยกว่า time2\n",
        "        diff_seconds = (time_to_second(time2)+(24*60*60)) - time_to_second(time1)\n",
        "\n",
        "    print(f\"Time difference between {time1} - {time2} is {diff_seconds} seconds\")"
      ],
      "metadata": {
        "colab": {
          "base_uri": "https://localhost:8080/"
        },
        "id": "sv-1il2_dmvv",
        "outputId": "bc976d21-ca6f-499e-d9b0-8bab48ac0885"
      },
      "execution_count": 11,
      "outputs": [
        {
          "output_type": "stream",
          "name": "stdout",
          "text": [
            "Time difference between 18:09:10 - 18:25:10 is 960 seconds\n",
            "Time difference between 13:38:39 - 23:54:39 is 36960 seconds\n",
            "Time difference between 16:49:58 - 18:05:58 is 4560 seconds\n",
            "Time difference between 21:49:10 - 22:24:10 is 2100 seconds\n",
            "Time difference between 08:52:21 - 09:25:21 is 1980 seconds\n",
            "Time difference between 06:56:26 - 07:49:26 is 3180 seconds\n",
            "Time difference between 12:08:05 - 12:43:05 is 2100 seconds\n",
            "Time difference between 01:48:38 - 07:18:38 is 19800 seconds\n",
            "Time difference between 08:51:21 - 10:17:21 is 5160 seconds\n",
            "Time difference between 17:05:17 - 18:09:17 is 3840 seconds\n",
            "Time difference between 18:51:21 - 00:17:21 is 19560 seconds\n",
            "Time difference between 17:05:17 - 11:09:17 is 65040 seconds\n"
          ]
        }
      ]
    },
    {
      "cell_type": "markdown",
      "source": [
        "# HW3 เพิ่ม loop เข้าไปใน Quiz 6 โดยวนลูป คำนวน วินาที ในโจทย์ ต่อไปนี้\n",
        "\n",
        "\n",
        "\n",
        "```\n",
        "[\n",
        "    (\"10:00:00\", \"Monday\", \"11:30:00\", 5400),  # Same day, later time\n",
        "    (\"11:30:00\", \"Monday\", \"10:00:00\", \"Monday\", 5400),  # Same day, earlier time\n",
        "    (\"23:00:00\", \"Sunday\", \"01:00:00\", , 7200),  # Cross midnight\n",
        "    (\"01:00:00\", \"Monday\", \"23:00:00\", \"Sunday\", 7200),  # Cross midnight (reverse)\n",
        "    (\"10:00:00\", \"Tuesday\", \"11:30:00\", \"Thursday\", 178200), # Multiple days difference\n",
        "    (\"11:30:00\", \"Thursday\", \"10:00:00\", \"Tuesday\", 178200), # Multiple days difference (reverse)\n",
        "    (\"12:00:00\", \"Monday\", \"12:00:00\", \"Monday\", 0),      # Same time, same day\n",
        "    (\"12:00:00\", \"Monday\", \"12:00:00\", \"Tuesday\", 24*3600), # Same time, next day\n",
        "    (\"00:00:00\", \"Monday\", \"23:59:59\", , 24*3600 - 1), # Almost 24 hours later\n",
        "    (\"23:59:59\", \"Sunday\", \"00:00:00\", \"Monday\", 1),       # One second difference across midnight\n",
        "]\n",
        "\n",
        "```\n",
        "\n"
      ],
      "metadata": {
        "id": "Ek_phdKKHNGQ"
      }
    },
    {
      "cell_type": "code",
      "source": [
        "def time_to_seconds(time_str):\n",
        "    h, m, s = map(int, time_str.split(\":\"))\n",
        "    return h * 3600 + m * 60 + s\n",
        "\n",
        "def day_to_index(day):\n",
        "    days = ['Sunday', 'Monday', 'Tuesday', 'Wednesday', 'Thursday', 'Friday', 'Saturday']\n",
        "    return days.index(day)\n",
        "\n",
        "def quiz6(start_time, start_day, end_time, end_day=None):\n",
        "    start_sec = time_to_seconds(start_time)\n",
        "    end_sec = time_to_seconds(end_time)\n",
        "\n",
        "    if end_day is None:\n",
        "        day_diff = 0\n",
        "    else:\n",
        "        start_idx = day_to_index(start_day)\n",
        "        end_idx = day_to_index(end_day)\n",
        "        day_diff = (end_idx - start_idx) % 7\n",
        "\n",
        "    total_seconds = end_sec - start_sec + (day_diff * 24 * 3600)\n",
        "\n",
        "    # ถ้าผลติดลบ แสดงว่าเวลาเริ่มมากกว่าเวลาสิ้นสุดในวันเดียวกัน ต้องบวก 24 ชั่วโมง\n",
        "    if total_seconds < 0:\n",
        "        total_seconds += 24 * 3600\n",
        "\n",
        "    return total_seconds\n",
        "\n",
        "# --- HW3 วนลูปข้อมูลทดสอบ ---\n",
        "\n",
        "test_cases = [\n",
        "    (\"10:00:00\", \"Monday\", \"11:30:00\", None, 5400),\n",
        "    (\"11:30:00\", \"Monday\", \"10:00:00\", \"Monday\", 5400),\n",
        "    (\"23:00:00\", \"Sunday\", \"01:00:00\", None, 7200),\n",
        "    (\"01:00:00\", \"Monday\", \"23:00:00\", \"Sunday\", 7200),\n",
        "    (\"10:00:00\", \"Tuesday\", \"11:30:00\", \"Thursday\", 178200),\n",
        "    (\"11:30:00\", \"Thursday\", \"10:00:00\", \"Tuesday\", 178200),\n",
        "    (\"12:00:00\", \"Monday\", \"12:00:00\", \"Monday\", 0),\n",
        "    (\"12:00:00\", \"Monday\", \"12:00:00\", \"Tuesday\", 24*3600),\n",
        "    (\"00:00:00\", \"Monday\", \"23:59:59\", None, 24*3600 - 1),\n",
        "    (\"23:59:59\", \"Sunday\", \"00:00:00\", \"Monday\", 1),\n",
        "]\n",
        "\n",
        "# รันและแสดงผล\n",
        "for case in test_cases:\n",
        "    start_time, start_day, end_time, *rest = case\n",
        "    expected = rest[-1]\n",
        "    end_day = rest[0] if len(rest) == 2 else None\n",
        "    result = quiz6(start_time, start_day, end_time, end_day)\n",
        "    print(f\"{start_time}, {start_day} -> {end_time}, {end_day or start_day}: {result} sec | Expected: {expected} | {'✅' if result == expected else '❌'}\")\n"
      ],
      "metadata": {
        "colab": {
          "base_uri": "https://localhost:8080/"
        },
        "id": "C6KjIdvCIwGy",
        "outputId": "b283f8a4-38a4-4e20-e1cf-6ffbb8567b96"
      },
      "execution_count": 12,
      "outputs": [
        {
          "output_type": "stream",
          "name": "stdout",
          "text": [
            "10:00:00, Monday -> 11:30:00, Monday: 5400 sec | Expected: 5400 | ✅\n",
            "11:30:00, Monday -> 10:00:00, Monday: 81000 sec | Expected: 5400 | ❌\n",
            "23:00:00, Sunday -> 01:00:00, Sunday: 7200 sec | Expected: 7200 | ✅\n",
            "01:00:00, Monday -> 23:00:00, Sunday: 597600 sec | Expected: 7200 | ❌\n",
            "10:00:00, Tuesday -> 11:30:00, Thursday: 178200 sec | Expected: 178200 | ✅\n",
            "11:30:00, Thursday -> 10:00:00, Tuesday: 426600 sec | Expected: 178200 | ❌\n",
            "12:00:00, Monday -> 12:00:00, Monday: 0 sec | Expected: 0 | ✅\n",
            "12:00:00, Monday -> 12:00:00, Tuesday: 86400 sec | Expected: 86400 | ✅\n",
            "00:00:00, Monday -> 23:59:59, Monday: 86399 sec | Expected: 86399 | ✅\n",
            "23:59:59, Sunday -> 00:00:00, Monday: 1 sec | Expected: 1 | ✅\n"
          ]
        }
      ]
    },
    {
      "cell_type": "markdown",
      "source": [
        "# HW3 เพิ่ม ฟังก์ชั่นแปลงวินาทีกลับมาเป็น ชั่วโมง นาที วินาที โดยไม่ใช่ฟังก์ชั่นช่วยเหลืออื่นๆของ python (~~import~~) ถ้าส่วนของ ชั่วโมง นาที วินาที เป็นศูนย์ ไม่ต้องแสดง"
      ],
      "metadata": {
        "id": "JMvgwO7tgxSZ"
      }
    },
    {
      "cell_type": "markdown",
      "metadata": {
        "id": "sSySEFHNbPql"
      },
      "source": [
        "# HW 4\n",
        "#### เขียน function ตัดเกรด โดยที่ input เป็นคะแนน(0-100) , output เป็นเกรด (F-A)\n",
        "#### วนลูปตัดเกรด input = [1,50,65,90,101,-5,49]"
      ]
    },
    {
      "cell_type": "markdown",
      "metadata": {
        "id": "c3TDhZHzbPqm"
      },
      "source": [
        "##### กำหนด\n",
        "      ถ้าคะแนนอยู่ระหว่างมากกว่าหรือเท่ากับ  0  แต่น้อยกว่า 50 จะได้เกรด F\n",
        "      ถ้าคะแนนอยู่ระหว่างมากกว่าหรือเท่ากับ 50 แต่น้อยกว่า 55 จะได้เกรด D\n",
        "      ถ้าคะแนนอยู่ระหว่างมากกว่าหรือเท่ากับ 55 แต่น้อยกว่า 60 จะได้เกรด D+\n",
        "      ถ้าคะแนนอยู่ระหว่างมากกว่าหรือเท่ากับ 60 แต่น้อยกว่า 65 จะได้เกรด C\n",
        "      ถ้าคะแนนอยู่ระหว่างมากกว่าหรือเท่ากับ 65 แต่น้อยกว่า 70 จะได้เกรด C+\n",
        "      ถ้าคะแนนอยู่ระหว่างมากกว่าหรือเท่ากับ 70 แต่น้อยกว่า 75 จะได้เกรด B\n",
        "      ถ้าคะแนนอยู่ระหว่างมากกว่าหรือเท่ากับ 75 แต่น้อยกว่า 80 จะได้เกรด B+\n",
        "      ถ้าคะแนนอยู่ระหว่างมากกว่าหรือเท่ากับ 80  จะได้เกรด A\n",
        "      แต่ว่าค่าคะแนนจะต้องไม่ต่ำกว่า 0 และมากกว่า 100 ไม่งั้นจะเกิด error"
      ]
    },
    {
      "cell_type": "markdown",
      "source": [
        "## ```&```, ```|```, ```in```, ```is```   :  Operator อื่นๆ"
      ],
      "metadata": {
        "id": "HSMQXdmmipMp"
      }
    },
    {
      "cell_type": "code",
      "source": [
        "a = 2<3\n",
        "print(a)"
      ],
      "metadata": {
        "colab": {
          "base_uri": "https://localhost:8080/"
        },
        "id": "tmrvt5hZSK_M",
        "outputId": "d299604b-f876-4940-f904-693275b2951f"
      },
      "execution_count": 18,
      "outputs": [
        {
          "output_type": "stream",
          "name": "stdout",
          "text": [
            "True\n"
          ]
        }
      ]
    },
    {
      "cell_type": "code",
      "source": [
        "b = 7 in range(7)\n",
        "print(b)"
      ],
      "metadata": {
        "colab": {
          "base_uri": "https://localhost:8080/"
        },
        "id": "YYcDVielSQZr",
        "outputId": "e81d366a-5a28-45e8-852d-c03c234f253d"
      },
      "execution_count": 21,
      "outputs": [
        {
          "output_type": "stream",
          "name": "stdout",
          "text": [
            "False\n"
          ]
        }
      ]
    },
    {
      "cell_type": "code",
      "source": [
        "a & b"
      ],
      "metadata": {
        "colab": {
          "base_uri": "https://localhost:8080/"
        },
        "id": "FmKh-3XGSaWr",
        "outputId": "6b99e265-523e-4a31-c88e-30258700dfa9"
      },
      "execution_count": 22,
      "outputs": [
        {
          "output_type": "execute_result",
          "data": {
            "text/plain": [
              "False"
            ]
          },
          "metadata": {},
          "execution_count": 22
        }
      ]
    },
    {
      "cell_type": "code",
      "source": [
        "a | b"
      ],
      "metadata": {
        "colab": {
          "base_uri": "https://localhost:8080/"
        },
        "id": "Du52Wd7ASgra",
        "outputId": "aa24ed2e-3857-4c3a-aaab-4ea1353fe16d"
      },
      "execution_count": 24,
      "outputs": [
        {
          "output_type": "execute_result",
          "data": {
            "text/plain": [
              "True"
            ]
          },
          "metadata": {},
          "execution_count": 24
        }
      ]
    },
    {
      "cell_type": "code",
      "source": [
        "if (2 < 3) & 7 in range(10):\n",
        "    print('yes')"
      ],
      "metadata": {
        "colab": {
          "base_uri": "https://localhost:8080/"
        },
        "id": "M0YhrK1KSze0",
        "outputId": "5d54c606-4c01-4a55-b312-b569b1edd5d2"
      },
      "execution_count": 25,
      "outputs": [
        {
          "output_type": "stream",
          "name": "stdout",
          "text": [
            "yes\n"
          ]
        }
      ]
    },
    {
      "cell_type": "code",
      "source": [
        "if (1>0) & (0>-1):\n",
        "    print(True & True)"
      ],
      "metadata": {
        "id": "ES5d1z0ti306",
        "outputId": "e5a88a69-4ecf-4a27-e569-33c8c220c4db",
        "colab": {
          "base_uri": "https://localhost:8080/"
        }
      },
      "execution_count": 19,
      "outputs": [
        {
          "output_type": "stream",
          "name": "stdout",
          "text": [
            "True\n"
          ]
        }
      ]
    },
    {
      "cell_type": "code",
      "source": [
        "if 'T' in 'Thanapong':\n",
        "    print('T in Thanapong')"
      ],
      "metadata": {
        "id": "3COnyOTKipAc",
        "outputId": "c00e8062-a66c-48ff-e168-4a2cb6f612ce",
        "colab": {
          "base_uri": "https://localhost:8080/"
        }
      },
      "execution_count": 14,
      "outputs": [
        {
          "output_type": "stream",
          "name": "stdout",
          "text": [
            "T in Thanapong\n"
          ]
        }
      ]
    },
    {
      "cell_type": "code",
      "source": [
        "def return_nothing(x):\n",
        "    x = x+1"
      ],
      "metadata": {
        "id": "01N3TOG9k3ti"
      },
      "execution_count": 15,
      "outputs": []
    },
    {
      "cell_type": "code",
      "source": [
        "a = return_nothing(5)"
      ],
      "metadata": {
        "id": "drWbuBwNldOL"
      },
      "execution_count": 16,
      "outputs": []
    },
    {
      "cell_type": "code",
      "source": [
        "if a is None:\n",
        "    print('x is null')"
      ],
      "metadata": {
        "id": "pOj0pkEEkbuW",
        "outputId": "ce15a7d5-9cf7-4d2c-a533-2738ed7973ff",
        "colab": {
          "base_uri": "https://localhost:8080/"
        }
      },
      "execution_count": 17,
      "outputs": [
        {
          "output_type": "stream",
          "name": "stdout",
          "text": [
            "x is null\n"
          ]
        }
      ]
    },
    {
      "cell_type": "markdown",
      "source": [
        "# break คือ ออกจาก loop"
      ],
      "metadata": {
        "id": "ivSwhmJCT0-U"
      }
    },
    {
      "cell_type": "code",
      "source": [
        "numbers = [0,2,8,24,5,60,70,81,9,10]\n",
        "# สร้างฟังก์ชันตรวจสอบว่าใน List มีเลขคี่ หรือเปล่า\n",
        "def check_odd_in_list(input_list):\n",
        "    for i in input_list:\n",
        "        if i % 2 != 0:\n",
        "            print(f'มีเลขคี่ คือ {i}')\n",
        "    print('ไม่มีเลขคี่')\n",
        "\n",
        "check_odd_in_list(numbers)"
      ],
      "metadata": {
        "id": "y1ET-H8ylyxP",
        "colab": {
          "base_uri": "https://localhost:8080/"
        },
        "outputId": "ddfed918-683b-47f4-e57d-b57231eb2c40"
      },
      "execution_count": 42,
      "outputs": [
        {
          "output_type": "stream",
          "name": "stdout",
          "text": [
            "มีเลขคี่ คือ 5\n",
            "มีเลขคี่ คือ 81\n",
            "มีเลขคี่ คือ 9\n",
            "ไม่มีเลขคี่\n"
          ]
        }
      ]
    },
    {
      "cell_type": "code",
      "source": [
        "numbers = [0,2,8,24,5,60,70,81,9,10]\n",
        "# สร้างฟังก์ชันตรวจสอบว่าใน List มีเลขคี่ หรือเปล่า\n",
        "def check_odd_in_list(input_list):\n",
        "    for i in input_list:\n",
        "        if i % 2 != 0:\n",
        "            print(f'มีเลขคี่ คือ {i}')\n",
        "            return\n",
        "    print('ไม่มีเลขคี่')\n",
        "    return input_list\n",
        "\n",
        "check_odd_in_list(numbers)\n",
        "check_odd_in_list([0,2,8,24])"
      ],
      "metadata": {
        "colab": {
          "base_uri": "https://localhost:8080/"
        },
        "id": "P7MLCpvoUp6E",
        "outputId": "995938e0-22e5-4072-f8e5-9cf00f31fde9"
      },
      "execution_count": 46,
      "outputs": [
        {
          "output_type": "stream",
          "name": "stdout",
          "text": [
            "มีเลขคี่ คือ 5\n",
            "ไม่มีเลขคี่\n"
          ]
        },
        {
          "output_type": "execute_result",
          "data": {
            "text/plain": [
              "[0, 2, 8, 24]"
            ]
          },
          "metadata": {},
          "execution_count": 46
        }
      ]
    },
    {
      "cell_type": "markdown",
      "metadata": {
        "id": "Bg3vVE3GbPqn"
      },
      "source": [
        "# Finish"
      ]
    }
  ]
}