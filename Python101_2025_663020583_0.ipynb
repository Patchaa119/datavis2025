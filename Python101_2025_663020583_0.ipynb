{
  "nbformat": 4,
  "nbformat_minor": 0,
  "metadata": {
    "kernelspec": {
      "display_name": "Python 3",
      "language": "python",
      "name": "python3"
    },
    "language_info": {
      "codemirror_mode": {
        "name": "ipython",
        "version": 3
      },
      "file_extension": ".py",
      "mimetype": "text/x-python",
      "name": "python",
      "nbconvert_exporter": "python",
      "pygments_lexer": "ipython3",
      "version": "3.7.4"
    },
    "colab": {
      "provenance": [],
      "toc_visible": true,
      "include_colab_link": true
    }
  },
  "cells": [
    {
      "cell_type": "markdown",
      "metadata": {
        "id": "view-in-github",
        "colab_type": "text"
      },
      "source": [
        "<a href=\"https://colab.research.google.com/github/Patchaa119/datavis2025/blob/main/Python101_2025_663020583_0.ipynb\" target=\"_parent\"><img src=\"https://colab.research.google.com/assets/colab-badge.svg\" alt=\"Open In Colab\"/></a>"
      ]
    },
    {
      "cell_type": "code",
      "source": [
        "# hashtag, sharp ใช้สำหรับคอมเม้น (comment)"
      ],
      "metadata": {
        "id": "jrYxvgpyM8XL"
      },
      "execution_count": null,
      "outputs": []
    },
    {
      "cell_type": "markdown",
      "source": [
        "# จัดระเบียบ Document และ ทำ Index\n",
        "\n",
        "# Header1\n",
        "\n",
        "## Header2"
      ],
      "metadata": {
        "id": "oLqmZ1fjNP4Y"
      }
    },
    {
      "cell_type": "markdown",
      "metadata": {
        "id": "Q9eja60jJ3Gp"
      },
      "source": [
        "# Variables\n"
      ]
    },
    {
      "cell_type": "code",
      "metadata": {
        "colab": {
          "base_uri": "https://localhost:8080/"
        },
        "id": "SAikt9ybNGbV",
        "outputId": "73d26dac-e42a-480f-bcc6-fd65d719d793"
      },
      "source": [
        "3.14159265359 # ค่า Pi"
      ],
      "execution_count": null,
      "outputs": [
        {
          "output_type": "execute_result",
          "data": {
            "text/plain": [
              "3.14159265359"
            ]
          },
          "metadata": {},
          "execution_count": 3
        }
      ]
    },
    {
      "cell_type": "markdown",
      "metadata": {
        "id": "Gd6fgMWiNmW1"
      },
      "source": [
        "หลักการตั้งชื่อตัวแปรเบื้องต้น\n",
        "\n",
        "1.   ตั้งให้สื่อ\n",
        "2.   ภาษาอังกฤษ\n",
        "3.   ใช้ตัวเลขได้แต่ห้ามขึ้นต้นด้วยตัวเลข\n",
        "4.   ห้ามเว้นวรรค\n",
        "\n"
      ]
    },
    {
      "cell_type": "code",
      "metadata": {
        "id": "uoewCMo9NbVz"
      },
      "source": [
        "pi = 3.14159265359"
      ],
      "execution_count": null,
      "outputs": []
    },
    {
      "cell_type": "code",
      "metadata": {
        "colab": {
          "base_uri": "https://localhost:8080/"
        },
        "id": "qIXaHhITOfje",
        "outputId": "b1ca5a78-7752-4ab9-c0e8-2af295ba6225"
      },
      "source": [
        "pi"
      ],
      "execution_count": null,
      "outputs": [
        {
          "output_type": "execute_result",
          "data": {
            "text/plain": [
              "3.14159265359"
            ]
          },
          "metadata": {},
          "execution_count": 5
        }
      ]
    },
    {
      "cell_type": "markdown",
      "metadata": {
        "id": "mGZPfkgLJ3Gp"
      },
      "source": [
        "### int : จำนวนเต็ม"
      ]
    },
    {
      "cell_type": "code",
      "metadata": {
        "id": "pnARmXrrJ3Gq"
      },
      "source": [
        "int_a = 10"
      ],
      "execution_count": null,
      "outputs": []
    },
    {
      "cell_type": "code",
      "metadata": {
        "colab": {
          "base_uri": "https://localhost:8080/"
        },
        "id": "bzTFLo2rJ3Gq",
        "outputId": "d6175110-1d29-4fd7-f222-3b2115c8e657"
      },
      "source": [
        "print(int_a)"
      ],
      "execution_count": null,
      "outputs": [
        {
          "output_type": "stream",
          "name": "stdout",
          "text": [
            "10\n"
          ]
        }
      ]
    },
    {
      "cell_type": "markdown",
      "metadata": {
        "id": "QN1-oFTTJ3Gs"
      },
      "source": [
        "### float : จำนวนจริง (ทศนิยม)"
      ]
    },
    {
      "cell_type": "code",
      "metadata": {
        "colab": {
          "base_uri": "https://localhost:8080/"
        },
        "id": "8k7ggeD5J3Gs",
        "outputId": "4edecaf6-2d60-4d98-9ce2-907888804c32"
      },
      "source": [
        "float_b = 10.\n",
        "print(float_b)"
      ],
      "execution_count": null,
      "outputs": [
        {
          "output_type": "stream",
          "name": "stdout",
          "text": [
            "10.0\n"
          ]
        }
      ]
    },
    {
      "cell_type": "markdown",
      "metadata": {
        "id": "9tOhYLdkJ3Gt"
      },
      "source": [
        "###  ตัวอักษร (char (character)) ข้อความ (text หรือ string)"
      ]
    },
    {
      "cell_type": "code",
      "metadata": {
        "colab": {
          "base_uri": "https://localhost:8080/"
        },
        "id": "qx6H7E4KJ3Gt",
        "outputId": "11dfa61f-1f83-4389-f711-f1be331a49e4"
      },
      "source": [
        "str_c = 'ธนพงศ์'   # เราจะบอกว่าตัวแปรเป็นตัวอักษรหรือข้อความโดยการใช้ single quote ' หรือ double quote \" ล้อมรอบ\n",
        "print(str_c)"
      ],
      "execution_count": null,
      "outputs": [
        {
          "output_type": "stream",
          "name": "stdout",
          "text": [
            "ธนพงศ์\n"
          ]
        }
      ]
    },
    {
      "cell_type": "markdown",
      "source": [
        "### ตัวแปรต่างชนิดกันไม่สามารถทำ operation กันได้"
      ],
      "metadata": {
        "id": "save8yE5P55v"
      }
    },
    {
      "cell_type": "code",
      "source": [
        "print(str_c + \"STAT\")  # string + string"
      ],
      "metadata": {
        "colab": {
          "base_uri": "https://localhost:8080/"
        },
        "id": "XuPv5PgmP5pt",
        "outputId": "aa7f18ab-3e53-41e1-f53d-203cc5112f9a"
      },
      "execution_count": null,
      "outputs": [
        {
          "output_type": "stream",
          "name": "stdout",
          "text": [
            "ธนพงศ์STAT\n"
          ]
        }
      ]
    },
    {
      "cell_type": "code",
      "source": [
        "print(int_a + 13) # int + int"
      ],
      "metadata": {
        "colab": {
          "base_uri": "https://localhost:8080/"
        },
        "id": "CdUuFsFqQjT3",
        "outputId": "ee1a4546-7765-41c9-9d4b-45af6cd9c03c"
      },
      "execution_count": null,
      "outputs": [
        {
          "output_type": "stream",
          "name": "stdout",
          "text": [
            "23\n"
          ]
        }
      ]
    },
    {
      "cell_type": "code",
      "source": [
        "print(str_c + int_a)"
      ],
      "metadata": {
        "colab": {
          "base_uri": "https://localhost:8080/",
          "height": 158
        },
        "id": "mpsT4sJZP419",
        "outputId": "3e4c4dd0-6a04-49f4-b05a-460838db768c"
      },
      "execution_count": null,
      "outputs": [
        {
          "output_type": "error",
          "ename": "TypeError",
          "evalue": "can only concatenate str (not \"int\") to str",
          "traceback": [
            "\u001b[0;31m---------------------------------------------------------------------------\u001b[0m",
            "\u001b[0;31mTypeError\u001b[0m                                 Traceback (most recent call last)",
            "\u001b[0;32m<ipython-input-14-5c362b5ce263>\u001b[0m in \u001b[0;36m<cell line: 1>\u001b[0;34m()\u001b[0m\n\u001b[0;32m----> 1\u001b[0;31m \u001b[0mprint\u001b[0m\u001b[0;34m(\u001b[0m\u001b[0mstr_c\u001b[0m \u001b[0;34m+\u001b[0m \u001b[0mint_a\u001b[0m\u001b[0;34m)\u001b[0m\u001b[0;34m\u001b[0m\u001b[0;34m\u001b[0m\u001b[0m\n\u001b[0m",
            "\u001b[0;31mTypeError\u001b[0m: can only concatenate str (not \"int\") to str"
          ]
        }
      ]
    },
    {
      "cell_type": "code",
      "source": [
        "print(str_c + str(int_a))  # แปลง int_a เป็นสตริงก่อนการต่อ"
      ],
      "metadata": {
        "colab": {
          "base_uri": "https://localhost:8080/"
        },
        "id": "bXjw4TibRi2U",
        "outputId": "898a4f85-264d-43bb-b75a-e45769c92271"
      },
      "execution_count": null,
      "outputs": [
        {
          "output_type": "stream",
          "name": "stdout",
          "text": [
            "ธนพงศ์10\n"
          ]
        }
      ]
    },
    {
      "cell_type": "code",
      "source": [
        "str_d = '123'"
      ],
      "metadata": {
        "id": "J6EzBPDrRu4c"
      },
      "execution_count": null,
      "outputs": []
    },
    {
      "cell_type": "code",
      "source": [
        "print(str_d + int_a)"
      ],
      "metadata": {
        "colab": {
          "base_uri": "https://localhost:8080/",
          "height": 158
        },
        "id": "huaUha-NR324",
        "outputId": "943d2656-9858-427d-c670-9d70c9d880db"
      },
      "execution_count": null,
      "outputs": [
        {
          "output_type": "error",
          "ename": "TypeError",
          "evalue": "can only concatenate str (not \"int\") to str",
          "traceback": [
            "\u001b[0;31m---------------------------------------------------------------------------\u001b[0m",
            "\u001b[0;31mTypeError\u001b[0m                                 Traceback (most recent call last)",
            "\u001b[0;32m<ipython-input-18-101f14ab0e0d>\u001b[0m in \u001b[0;36m<cell line: 1>\u001b[0;34m()\u001b[0m\n\u001b[0;32m----> 1\u001b[0;31m \u001b[0mprint\u001b[0m\u001b[0;34m(\u001b[0m\u001b[0mstr_d\u001b[0m \u001b[0;34m+\u001b[0m \u001b[0mint_a\u001b[0m\u001b[0;34m)\u001b[0m\u001b[0;34m\u001b[0m\u001b[0;34m\u001b[0m\u001b[0m\n\u001b[0m",
            "\u001b[0;31mTypeError\u001b[0m: can only concatenate str (not \"int\") to str"
          ]
        }
      ]
    },
    {
      "cell_type": "code",
      "source": [
        "int(str_d) + int_a"
      ],
      "metadata": {
        "colab": {
          "base_uri": "https://localhost:8080/"
        },
        "id": "Er1v4oVwSklB",
        "outputId": "de40df47-6b6c-4627-a4df-8865897895a3"
      },
      "execution_count": null,
      "outputs": [
        {
          "output_type": "execute_result",
          "data": {
            "text/plain": [
              "133"
            ]
          },
          "metadata": {},
          "execution_count": 19
        }
      ]
    },
    {
      "cell_type": "markdown",
      "metadata": {
        "id": "UYTlNY4nJ3Gt"
      },
      "source": [
        "### variable casting (การเปลี่ยนชนิดของข้อมูล)"
      ]
    },
    {
      "cell_type": "code",
      "metadata": {
        "colab": {
          "base_uri": "https://localhost:8080/"
        },
        "id": "8IMgSjo8J3Gu",
        "outputId": "4e3833dc-a992-416b-b6e1-e06d3c2fbaf8"
      },
      "source": [
        "int(str_d) + 1"
      ],
      "execution_count": null,
      "outputs": [
        {
          "output_type": "execute_result",
          "data": {
            "text/plain": [
              "124"
            ]
          },
          "metadata": {},
          "execution_count": 20
        }
      ]
    },
    {
      "cell_type": "code",
      "metadata": {
        "colab": {
          "base_uri": "https://localhost:8080/"
        },
        "id": "PepisZSuR-6O",
        "outputId": "09a1177a-4c85-4904-b68a-611ec5788c8c"
      },
      "source": [
        "print(int_a)\n",
        "print(float(int_a))\n",
        "print(str(int_a))"
      ],
      "execution_count": null,
      "outputs": [
        {
          "output_type": "stream",
          "name": "stdout",
          "text": [
            "10\n",
            "10.0\n",
            "10\n"
          ]
        }
      ]
    },
    {
      "cell_type": "markdown",
      "metadata": {
        "id": "DCsc4R9KJ3Gu"
      },
      "source": [
        "# Operation (Operators +,-,*,/,%)"
      ]
    },
    {
      "cell_type": "code",
      "metadata": {
        "colab": {
          "base_uri": "https://localhost:8080/"
        },
        "id": "FahcgJdhJ3Gu",
        "outputId": "ad926cfd-a639-41d1-f7b2-c0ab03a6b1d6"
      },
      "source": [
        "int_a + float_b"
      ],
      "execution_count": null,
      "outputs": [
        {
          "output_type": "execute_result",
          "data": {
            "text/plain": [
              "20.0"
            ]
          },
          "metadata": {},
          "execution_count": 23
        }
      ]
    },
    {
      "cell_type": "code",
      "metadata": {
        "colab": {
          "base_uri": "https://localhost:8080/"
        },
        "id": "VvE9t0j9J3Gu",
        "outputId": "41ca0695-6c59-4638-a424-11c4a5325c1d"
      },
      "source": [
        "ab = int_a + float_b\n",
        "print(ab)"
      ],
      "execution_count": null,
      "outputs": [
        {
          "output_type": "stream",
          "name": "stdout",
          "text": [
            "20.0\n"
          ]
        }
      ]
    },
    {
      "cell_type": "markdown",
      "metadata": {
        "id": "u9KXbMyeJ3Gu"
      },
      "source": [
        "#### % คือหมาย modulo"
      ]
    },
    {
      "cell_type": "code",
      "metadata": {
        "colab": {
          "base_uri": "https://localhost:8080/"
        },
        "id": "lw9DDEhtJ3Gv",
        "outputId": "f23493ad-e88b-4bf9-b6dc-cb5d05f21774"
      },
      "source": [
        "5%3"
      ],
      "execution_count": null,
      "outputs": [
        {
          "output_type": "execute_result",
          "data": {
            "text/plain": [
              "2"
            ]
          },
          "metadata": {},
          "execution_count": 26
        }
      ]
    },
    {
      "cell_type": "code",
      "metadata": {
        "colab": {
          "base_uri": "https://localhost:8080/"
        },
        "id": "MQU5WHmTTCjM",
        "outputId": "674907dc-f048-47c4-cad0-7d357a2bab8e"
      },
      "source": [
        "7%3"
      ],
      "execution_count": null,
      "outputs": [
        {
          "output_type": "execute_result",
          "data": {
            "text/plain": [
              "1"
            ]
          },
          "metadata": {},
          "execution_count": 27
        }
      ]
    },
    {
      "cell_type": "markdown",
      "source": [
        "** ยกกำลัง"
      ],
      "metadata": {
        "id": "chBa5J-vUgbX"
      }
    },
    {
      "cell_type": "code",
      "source": [
        "2**10"
      ],
      "metadata": {
        "colab": {
          "base_uri": "https://localhost:8080/"
        },
        "id": "MseExGarUiXj",
        "outputId": "0a731353-ced6-49fa-b461-8945e0c13125"
      },
      "execution_count": null,
      "outputs": [
        {
          "output_type": "execute_result",
          "data": {
            "text/plain": [
              "1024"
            ]
          },
          "metadata": {},
          "execution_count": 28
        }
      ]
    },
    {
      "cell_type": "code",
      "source": [
        "4**0.5"
      ],
      "metadata": {
        "colab": {
          "base_uri": "https://localhost:8080/"
        },
        "id": "l9XQiPYHU0Aw",
        "outputId": "9b594b97-96a3-4de7-c9eb-227cd48260f6"
      },
      "execution_count": null,
      "outputs": [
        {
          "output_type": "execute_result",
          "data": {
            "text/plain": [
              "2.0"
            ]
          },
          "metadata": {},
          "execution_count": 29
        }
      ]
    },
    {
      "cell_type": "markdown",
      "metadata": {
        "id": "fa8Cy421TQyv"
      },
      "source": [
        "### คำสั่ง print แบบพิเศษ (การ format string)"
      ]
    },
    {
      "cell_type": "markdown",
      "source": [
        "``` f'ข้อความธรรมดา {code} ข้อความธรรมดา {code}'```\n"
      ],
      "metadata": {
        "id": "SB83_0WSVRwr"
      }
    },
    {
      "cell_type": "code",
      "metadata": {
        "colab": {
          "base_uri": "https://localhost:8080/"
        },
        "id": "N9TJUqyYTiaS",
        "outputId": "8f53ef0b-d602-4359-bca6-ea81ab166e1d"
      },
      "source": [
        "print(f'% คือการหารเอาเศษ เช่น 7%3 = {7%3}') # เพิ่ม f หน้า 'string' และใช้ {} ใส่ code"
      ],
      "execution_count": null,
      "outputs": [
        {
          "output_type": "stream",
          "name": "stdout",
          "text": [
            "% คือการหารเอาเศษ เช่น 7%3 = 1\n"
          ]
        }
      ]
    },
    {
      "cell_type": "code",
      "metadata": {
        "colab": {
          "base_uri": "https://localhost:8080/"
        },
        "id": "FiTszVZXTiW4",
        "outputId": "8fd8d946-6cb7-4090-966a-495bcb3285ce"
      },
      "source": [
        "print(f'% คือการหารเอาเศษ เช่น 7%3 = {7%3} \\\n",
        "        \\n / คือการหารปกติ เช่น 7/3 = {7/3}  \\\n",
        "        \\n // คือการหารเอาส่วน เช่น 7//3 = {7//3}) \\\n",
        "        หรือ\\nใช้ int() เพื่อหารเอาส่วน เช่น int(7/3) = {int(7/3)} \\\n",
        "      \\nตัวแปร int_a คือ {int_a}') # \\n คือการขึ้นบรรทัดใหม่ \\ ใช้ในการตัด code แต่ com จะไม่เห็น"
      ],
      "execution_count": null,
      "outputs": [
        {
          "output_type": "stream",
          "name": "stdout",
          "text": [
            "% คือการหารเอาเศษ เช่น 7%3 = 1         \n",
            " / คือการหารปกติ เช่น 7/3 = 2.3333333333333335          \n",
            " // คือการหารเอาส่วน เช่น 7//3 = 2)         หรือ\n",
            "ใช้ int() เพื่อหารเอาส่วน เช่น int(7/3) = 2       \n",
            "ตัวแปร int_a คือ 10\n"
          ]
        }
      ]
    },
    {
      "cell_type": "markdown",
      "metadata": {
        "id": "FHzvVDaWJ3Gw"
      },
      "source": [
        "## DATA STRUCTURE (โครงสร้างข้อมูล)"
      ]
    },
    {
      "cell_type": "markdown",
      "metadata": {
        "id": "e5kIU3W-J3Gw"
      },
      "source": [
        "### List คือ การเอาตัวแปรหลายๆตัวมาเรียงกัน\n",
        "#### list สามารถสร้างได้ 2แบบ ดังนี้"
      ]
    },
    {
      "cell_type": "markdown",
      "metadata": {
        "id": "hq7h4tj2J3Gw"
      },
      "source": [
        "#### แบบที่1 > square brackets"
      ]
    },
    {
      "cell_type": "code",
      "source": [
        "[1,'a',3.5,'xyz']"
      ],
      "metadata": {
        "colab": {
          "base_uri": "https://localhost:8080/"
        },
        "id": "qlkbznFm6v7A",
        "outputId": "2743a41a-c489-42b6-bb67-8e67089c759a"
      },
      "execution_count": null,
      "outputs": [
        {
          "output_type": "execute_result",
          "data": {
            "text/plain": [
              "[1, 'a', 3.5, 'xyz']"
            ]
          },
          "metadata": {},
          "execution_count": 2
        }
      ]
    },
    {
      "cell_type": "code",
      "metadata": {
        "colab": {
          "base_uri": "https://localhost:8080/"
        },
        "id": "8Fnk8-I9J3Gw",
        "outputId": "59129b91-2506-4c00-95df-eb78842030b5"
      },
      "source": [
        "### ตย.การประกาศตัวแปร\n",
        "list_a = []\n",
        "print(list_a)"
      ],
      "execution_count": null,
      "outputs": [
        {
          "output_type": "stream",
          "name": "stdout",
          "text": [
            "[]\n"
          ]
        }
      ]
    },
    {
      "cell_type": "code",
      "metadata": {
        "colab": {
          "base_uri": "https://localhost:8080/"
        },
        "id": "9R2jTTTQJ3Gw",
        "outputId": "56b57737-8108-4715-b561-56bedb96ee98"
      },
      "source": [
        "### ตัวแปรที่มีสมาชิก 3 ตัว\n",
        "list_b = [1,5,'v']\n",
        "print(list_b)"
      ],
      "execution_count": null,
      "outputs": [
        {
          "output_type": "stream",
          "name": "stdout",
          "text": [
            "[1, 5, 'v']\n"
          ]
        }
      ]
    },
    {
      "cell_type": "markdown",
      "metadata": {
        "id": "f_DgmUApJ3Gw"
      },
      "source": [
        "#### แบบที่2"
      ]
    },
    {
      "cell_type": "code",
      "metadata": {
        "colab": {
          "base_uri": "https://localhost:8080/"
        },
        "id": "pmBmmx92J3Gx",
        "outputId": "9474321e-f84a-4812-b57a-5885c1a17e18"
      },
      "source": [
        "### ()เป็นฟังก์ชันใดๆ\n",
        "list_c = list() ### เทียบเท่ากับการเขียน list_c = [] ก็ได้เช่นกัน\n",
        "print(list_c)"
      ],
      "execution_count": null,
      "outputs": [
        {
          "output_type": "stream",
          "name": "stdout",
          "text": [
            "[]\n"
          ]
        }
      ]
    },
    {
      "cell_type": "markdown",
      "metadata": {
        "id": "L7bQ_1JJbU0l"
      },
      "source": [
        "### ลำดับที่อยู่ใน list มีความสำคัญ (ลำดับใน list เริ่มจาก 0,1,2,...)"
      ]
    },
    {
      "cell_type": "code",
      "source": [
        "### ตัวแปรที่มีสมาชิก 3 ตัว\n",
        "# list_b = [1,5,'v'] ก็คือ 0 เป็น 1, 1 เป็น 5, 2 เป็น v\n",
        "# print(list_b)"
      ],
      "metadata": {
        "id": "kHSjKnJo8JPZ"
      },
      "execution_count": null,
      "outputs": []
    },
    {
      "cell_type": "code",
      "metadata": {
        "colab": {
          "base_uri": "https://localhost:8080/",
          "height": 36
        },
        "id": "Fy2Ju92hbTJe",
        "outputId": "5f7da143-33da-4c8f-de57-05fdc52bfabb"
      },
      "source": [
        "list_b[2] ### indexing"
      ],
      "execution_count": null,
      "outputs": [
        {
          "output_type": "execute_result",
          "data": {
            "text/plain": [
              "'v'"
            ],
            "application/vnd.google.colaboratory.intrinsic+json": {
              "type": "string"
            }
          },
          "metadata": {},
          "execution_count": 8
        }
      ]
    },
    {
      "cell_type": "markdown",
      "metadata": {
        "id": "oVe1jDU1J3Gx"
      },
      "source": [
        "## append() เพิ่มสมาชิกใน list"
      ]
    },
    {
      "cell_type": "code",
      "metadata": {
        "colab": {
          "base_uri": "https://localhost:8080/"
        },
        "id": "fLqpVjZzJ3Gx",
        "outputId": "7a50957f-1ada-4f7b-a423-c142f38f2896"
      },
      "source": [
        "list_b.append('u') ### เพิ่มสมาชิก u **กดซ้ำสมาชิกตัวเดิมจะเพิ่มซ้ำ\n",
        "print(list_b)"
      ],
      "execution_count": null,
      "outputs": [
        {
          "output_type": "stream",
          "name": "stdout",
          "text": [
            "[1, 5, 'v', 'u', 'u', ['sci'], ['sci'], ['sci'], 'u']\n"
          ]
        }
      ]
    },
    {
      "cell_type": "code",
      "metadata": {
        "colab": {
          "base_uri": "https://localhost:8080/",
          "height": 36
        },
        "id": "MoBOtpexJ3Gx",
        "outputId": "a9180341-5eff-4004-ae7b-2d01b75a030f"
      },
      "source": [
        "list_b.pop() ### ดึงสมาชิกตัวสุดท้ายออกจาก list **กดซ้ำจะไม่ลบซ้ำ"
      ],
      "execution_count": null,
      "outputs": [
        {
          "output_type": "execute_result",
          "data": {
            "text/plain": [
              "'u'"
            ],
            "application/vnd.google.colaboratory.intrinsic+json": {
              "type": "string"
            }
          },
          "metadata": {},
          "execution_count": 34
        }
      ]
    },
    {
      "cell_type": "code",
      "metadata": {
        "colab": {
          "base_uri": "https://localhost:8080/"
        },
        "id": "oysetHrWJ3Gx",
        "outputId": "aec7102b-d5b3-4007-e7c0-7b330a8c22ae"
      },
      "source": [
        "list_b"
      ],
      "execution_count": null,
      "outputs": [
        {
          "output_type": "execute_result",
          "data": {
            "text/plain": [
              "[1, 5, 'v', 'u', 'u', ['sci'], ['sci'], ['sci']]"
            ]
          },
          "metadata": {},
          "execution_count": 35
        }
      ]
    },
    {
      "cell_type": "code",
      "source": [
        "list_a.append('sci')"
      ],
      "metadata": {
        "id": "lEdpZnSaaBGV"
      },
      "execution_count": null,
      "outputs": []
    },
    {
      "cell_type": "code",
      "metadata": {
        "colab": {
          "base_uri": "https://localhost:8080/"
        },
        "id": "MB3iJBCQJ3Gx",
        "outputId": "dc8c9079-3bc9-4af3-8db8-fd7523bcf169"
      },
      "source": [
        "list_b.append(list_a) ### เพิ่มสมาชิกจาก list_a **กดซ้ำสมาชิกตัวเดิมจะเพิ่มซ้ำ\n",
        "print(list_b)"
      ],
      "execution_count": null,
      "outputs": [
        {
          "output_type": "stream",
          "name": "stdout",
          "text": [
            "[1, 5, 'v', 'u', 'u', ['sci'], ['sci'], ['sci']]\n"
          ]
        }
      ]
    },
    {
      "cell_type": "code",
      "source": [
        "### me\n",
        "list_b.pop()"
      ],
      "metadata": {
        "colab": {
          "base_uri": "https://localhost:8080/"
        },
        "id": "05ZxSxB8-LTH",
        "outputId": "087265da-aa36-4600-eda8-8245e3d1b11e"
      },
      "execution_count": null,
      "outputs": [
        {
          "output_type": "execute_result",
          "data": {
            "text/plain": [
              "['sci', 'sci']"
            ]
          },
          "metadata": {},
          "execution_count": 40
        }
      ]
    },
    {
      "cell_type": "code",
      "source": [
        "### รันใหม่สมาชิกก็จะเพิ่มไว้ตั้งแต่แรก"
      ],
      "metadata": {
        "id": "CBx4XpzZ-UPo"
      },
      "execution_count": null,
      "outputs": []
    },
    {
      "cell_type": "markdown",
      "metadata": {
        "id": "i-HVllkVJ3Gy"
      },
      "source": [
        "## String > list of characters"
      ]
    },
    {
      "cell_type": "code",
      "metadata": {
        "colab": {
          "base_uri": "https://localhost:8080/",
          "height": 36
        },
        "id": "DNNnCnrUJ3Gy",
        "outputId": "f5f3f688-ceb4-45be-fa4b-1b26e1954919"
      },
      "source": [
        "t = 'python is easy' ### เป็น string\n",
        "t"
      ],
      "execution_count": null,
      "outputs": [
        {
          "output_type": "execute_result",
          "data": {
            "text/plain": [
              "'python is easy'"
            ],
            "application/vnd.google.colaboratory.intrinsic+json": {
              "type": "string"
            }
          },
          "metadata": {},
          "execution_count": 48
        }
      ]
    },
    {
      "cell_type": "code",
      "source": [
        "t[7] # ชี้ (indexing) ** i เป็นสมาชิกตัวที่ 7 (0-12)"
      ],
      "metadata": {
        "colab": {
          "base_uri": "https://localhost:8080/",
          "height": 36
        },
        "id": "8TVdWEB5aw4Y",
        "outputId": "76e950ec-78cd-46d8-c60c-6f11b1ac2507"
      },
      "execution_count": null,
      "outputs": [
        {
          "output_type": "execute_result",
          "data": {
            "text/plain": [
              "'i'"
            ],
            "application/vnd.google.colaboratory.intrinsic+json": {
              "type": "string"
            }
          },
          "metadata": {},
          "execution_count": 43
        }
      ]
    },
    {
      "cell_type": "code",
      "source": [
        "t + ', really?' ### เป็น string ต้อง + string เท่านั้น ห้ามเอาสตริงไปรวมกับตัวเลขโดยตรง"
      ],
      "metadata": {
        "colab": {
          "base_uri": "https://localhost:8080/",
          "height": 36
        },
        "id": "t5aby-Os_Et4",
        "outputId": "2f47865c-8185-41a2-f7b0-95d0fa9219ea"
      },
      "execution_count": null,
      "outputs": [
        {
          "output_type": "execute_result",
          "data": {
            "text/plain": [
              "'python is easy, really?'"
            ],
            "application/vnd.google.colaboratory.intrinsic+json": {
              "type": "string"
            }
          },
          "metadata": {},
          "execution_count": 50
        }
      ]
    },
    {
      "cell_type": "code",
      "source": [
        "list_a + list_b ## ไม่สามารถเอา list ปกติมาต่อกับ string ได้"
      ],
      "metadata": {
        "colab": {
          "base_uri": "https://localhost:8080/"
        },
        "id": "CqiKUbXj_qFQ",
        "outputId": "7e4b96fa-947c-496a-8065-32051e01ad43"
      },
      "execution_count": null,
      "outputs": [
        {
          "output_type": "execute_result",
          "data": {
            "text/plain": [
              "['sci', 'sci', 1, 5, 'v', 'u', 'u']"
            ]
          },
          "metadata": {},
          "execution_count": 51
        }
      ]
    },
    {
      "cell_type": "code",
      "source": [
        "print(list_a)\n",
        "len(list_a)"
      ],
      "metadata": {
        "colab": {
          "base_uri": "https://localhost:8080/"
        },
        "id": "pQhOsqSq_zSI",
        "outputId": "b366770e-0271-46ab-d87d-0bf36414649f"
      },
      "execution_count": null,
      "outputs": [
        {
          "output_type": "stream",
          "name": "stdout",
          "text": [
            "['sci', 'sci']\n"
          ]
        },
        {
          "output_type": "execute_result",
          "data": {
            "text/plain": [
              "2"
            ]
          },
          "metadata": {},
          "execution_count": 55
        }
      ]
    },
    {
      "cell_type": "code",
      "metadata": {
        "colab": {
          "base_uri": "https://localhost:8080/"
        },
        "id": "MT4PMgvSJ3Gy",
        "outputId": "861fa5ad-720d-43fb-bbd6-abdcd279cb6d"
      },
      "source": [
        "len(list_b) # len คือคำสั่งตรวจสอบความยาวของ list (จำนวนสมาชิก) **ตัวซ้ำนับรวมกันเป็นตัวเดียว"
      ],
      "execution_count": null,
      "outputs": [
        {
          "output_type": "execute_result",
          "data": {
            "text/plain": [
              "5"
            ]
          },
          "metadata": {},
          "execution_count": 57
        }
      ]
    },
    {
      "cell_type": "code",
      "metadata": {
        "colab": {
          "base_uri": "https://localhost:8080/"
        },
        "id": "Sb7qn8lEJ3Gy",
        "outputId": "839f8b92-8018-4607-b3a5-dd8319e70f70"
      },
      "source": [
        "len(t) ### len() คือฟังก์ชันในตัวของ Python ที่ใช้สำหรับ นับจำนวนสมาชิกในลิสต์"
      ],
      "execution_count": null,
      "outputs": [
        {
          "output_type": "execute_result",
          "data": {
            "text/plain": [
              "14"
            ]
          },
          "metadata": {},
          "execution_count": 58
        }
      ]
    },
    {
      "cell_type": "code",
      "source": [
        "t = t + ', really?' ### ทำให้อ่านค่า spacebar ด้วย"
      ],
      "metadata": {
        "id": "ilRnyMY9Bt9a"
      },
      "execution_count": null,
      "outputs": []
    },
    {
      "cell_type": "code",
      "source": [
        "len(t) ### ถ้ารันบรรทัดข้างบนซ้ำจะถูกบวกไปเรื่อยๆ"
      ],
      "metadata": {
        "colab": {
          "base_uri": "https://localhost:8080/"
        },
        "id": "semzPVk9B3k3",
        "outputId": "724a65bd-a825-491d-ae53-38a04199db44"
      },
      "execution_count": null,
      "outputs": [
        {
          "output_type": "execute_result",
          "data": {
            "text/plain": [
              "41"
            ]
          },
          "metadata": {},
          "execution_count": 78
        }
      ]
    },
    {
      "cell_type": "markdown",
      "metadata": {
        "id": "cCx2a490J3Gz"
      },
      "source": [
        "### access a member of a list (list&string)\n",
        "#### โดยการเริ่มนับจะเริ่มนับจาก 0\n",
        "#### 0 คือสมาชิกตัวแรก , -1 คือสมาชิกตัวสุดท้าย"
      ]
    },
    {
      "cell_type": "code",
      "metadata": {
        "colab": {
          "base_uri": "https://localhost:8080/",
          "height": 36
        },
        "id": "h1gP1q5lJ3Gz",
        "outputId": "e1d637d8-9b7f-4a84-8dbb-94ed2c891664"
      },
      "source": [
        "t[0]"
      ],
      "execution_count": null,
      "outputs": [
        {
          "output_type": "execute_result",
          "data": {
            "text/plain": [
              "'p'"
            ],
            "application/vnd.google.colaboratory.intrinsic+json": {
              "type": "string"
            }
          },
          "metadata": {},
          "execution_count": 79
        }
      ]
    },
    {
      "cell_type": "code",
      "metadata": {
        "colab": {
          "base_uri": "https://localhost:8080/",
          "height": 36
        },
        "id": "7I6FHLuwJ3Gz",
        "outputId": "c48866e8-28f6-4142-df57-953beb4fab95"
      },
      "source": [
        "t[-1] ### index ติดลบ (เริ่มจาก -1 ด้านขวาสุด)"
      ],
      "execution_count": null,
      "outputs": [
        {
          "output_type": "execute_result",
          "data": {
            "text/plain": [
              "'?'"
            ],
            "application/vnd.google.colaboratory.intrinsic+json": {
              "type": "string"
            }
          },
          "metadata": {},
          "execution_count": 80
        }
      ]
    },
    {
      "cell_type": "code",
      "metadata": {
        "colab": {
          "base_uri": "https://localhost:8080/",
          "height": 36
        },
        "id": "_cTxNpRVewFq",
        "outputId": "25a1bb1c-b4df-4d67-ed34-d86a793397d1"
      },
      "source": [
        "t[-4]"
      ],
      "execution_count": null,
      "outputs": [
        {
          "output_type": "execute_result",
          "data": {
            "text/plain": [
              "'l'"
            ],
            "application/vnd.google.colaboratory.intrinsic+json": {
              "type": "string"
            }
          },
          "metadata": {},
          "execution_count": 81
        }
      ]
    },
    {
      "cell_type": "code",
      "source": [
        "### ถ้า t มี n ตัวอักษร → index ติดลบที่เล็กสุดที่ใช้ได้คือ -n\n",
        "# ถ้าติดลบ น้อยกว่า -n → ❌ จะเกิด IndexError"
      ],
      "metadata": {
        "id": "DBBb0l6FDNok"
      },
      "execution_count": null,
      "outputs": []
    },
    {
      "cell_type": "code",
      "source": [
        "t[-41]"
      ],
      "metadata": {
        "colab": {
          "base_uri": "https://localhost:8080/",
          "height": 36
        },
        "id": "bffhzz6MDfio",
        "outputId": "c2e0a30d-5ce4-469b-ad46-58a2663d7bdc"
      },
      "execution_count": null,
      "outputs": [
        {
          "output_type": "execute_result",
          "data": {
            "text/plain": [
              "'p'"
            ],
            "application/vnd.google.colaboratory.intrinsic+json": {
              "type": "string"
            }
          },
          "metadata": {},
          "execution_count": 85
        }
      ]
    },
    {
      "cell_type": "code",
      "source": [
        "t[-42]"
      ],
      "metadata": {
        "colab": {
          "base_uri": "https://localhost:8080/",
          "height": 146
        },
        "id": "QAHnRvHxDapL",
        "outputId": "3041aa4e-d1b9-4ba4-8812-27a3d026cb01"
      },
      "execution_count": null,
      "outputs": [
        {
          "output_type": "error",
          "ename": "IndexError",
          "evalue": "string index out of range",
          "traceback": [
            "\u001b[0;31m---------------------------------------------------------------------------\u001b[0m",
            "\u001b[0;31mIndexError\u001b[0m                                Traceback (most recent call last)",
            "\u001b[0;32m/tmp/ipython-input-84-4010452903.py\u001b[0m in \u001b[0;36m<cell line: 0>\u001b[0;34m()\u001b[0m\n\u001b[0;32m----> 1\u001b[0;31m \u001b[0mt\u001b[0m\u001b[0;34m[\u001b[0m\u001b[0;34m-\u001b[0m\u001b[0;36m42\u001b[0m\u001b[0;34m]\u001b[0m\u001b[0;34m\u001b[0m\u001b[0;34m\u001b[0m\u001b[0m\n\u001b[0m",
            "\u001b[0;31mIndexError\u001b[0m: string index out of range"
          ]
        }
      ]
    },
    {
      "cell_type": "markdown",
      "metadata": {
        "id": "gFt8MOOZef3M"
      },
      "source": [
        "### ตัวที่อยู่ข้างใน [ ] เราเรียกว่า index (ตัวชี้)"
      ]
    },
    {
      "cell_type": "markdown",
      "metadata": {
        "id": "sQt-ldH5J3Gz"
      },
      "source": [
        "### List slicing สามารถทำได้โดยใช้ colon :\n",
        "[a:b] -> [a,b)\n",
        "![9.gif](data:image/gif;base64,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)\n"
      ]
    },
    {
      "cell_type": "code",
      "source": [
        "### เราสามารถเรียกตัวแปรหลายๆตัวมาพร้อมๆกันได้\n",
        "### วงทึบคือเอา วงโปร่งคือไม่เอาตัวนั้น"
      ],
      "metadata": {
        "id": "Xii1ijaNEr-Q"
      },
      "execution_count": null,
      "outputs": []
    },
    {
      "cell_type": "code",
      "metadata": {
        "id": "b6ntLSJ9Zing"
      },
      "source": [
        "t = 'python is easy, really?'"
      ],
      "execution_count": null,
      "outputs": []
    },
    {
      "cell_type": "code",
      "metadata": {
        "colab": {
          "base_uri": "https://localhost:8080/"
        },
        "id": "Q33VSRhhJ3Gz",
        "outputId": "aedce763-e9df-4954-bb57-6be2d6dcb2f3"
      },
      "source": [
        "print(t)\n",
        "print(t[7:9]) ### เพราะ 7 เป็น i, 8 เป็น s, 9 เป็นช่องว่าง เลยจบแค่ is"
      ],
      "execution_count": null,
      "outputs": [
        {
          "output_type": "stream",
          "name": "stdout",
          "text": [
            "python is easy, really?\n",
            "is\n"
          ]
        }
      ]
    },
    {
      "cell_type": "code",
      "source": [
        "print(t)\n",
        "print(t[12:17]) ### ->'sy, r'"
      ],
      "metadata": {
        "colab": {
          "base_uri": "https://localhost:8080/"
        },
        "id": "raiRZmwZFjM6",
        "outputId": "8ed91017-7526-44a6-babf-1144dd1d8308"
      },
      "execution_count": null,
      "outputs": [
        {
          "output_type": "stream",
          "name": "stdout",
          "text": [
            "python is easy, really?\n",
            "sy, r\n"
          ]
        }
      ]
    },
    {
      "cell_type": "code",
      "source": [
        "print(t)\n",
        "print(t[-17:-6]) ### ->'sy, r'\n",
        "print(t[-17:-12])\n",
        "print(t[-11:-6]) ### ถูก"
      ],
      "metadata": {
        "colab": {
          "base_uri": "https://localhost:8080/"
        },
        "id": "hIxSq0S2GfD3",
        "outputId": "09bc359e-664a-4a52-f0af-23ec3eb9d3c7"
      },
      "execution_count": null,
      "outputs": [
        {
          "output_type": "stream",
          "name": "stdout",
          "text": [
            "python is easy, really?\n",
            " is easy, r\n",
            " is e\n",
            "sy, r\n"
          ]
        }
      ]
    },
    {
      "cell_type": "markdown",
      "metadata": {
        "id": "SoaWuAvGhBzx"
      },
      "source": [
        "ถ้าเว้นว่างหน้า : หมายความว่า เริ่มตั้งแต่ตัวแรก\n",
        "\n",
        "ถ้าเว้นว่างหลัง : หมายความว่า ไปจนถึงตัวสุดท้าย"
      ]
    },
    {
      "cell_type": "code",
      "metadata": {
        "colab": {
          "base_uri": "https://localhost:8080/"
        },
        "id": "-xBD4-1-g4lp",
        "outputId": "b35133c9-e387-4e67-e3c0-db46e53d68f7"
      },
      "source": [
        "print(t)\n",
        "print(t[:6])\n",
        "print(t[10:])\n",
        "print(t[-4:])\n",
        "print(t[:])"
      ],
      "execution_count": null,
      "outputs": [
        {
          "output_type": "stream",
          "name": "stdout",
          "text": [
            "python is easy, really?\n",
            "python\n",
            "easy, really?\n",
            "lly?\n",
            "python is easy, really?\n"
          ]
        }
      ]
    },
    {
      "cell_type": "code",
      "metadata": {
        "id": "5BYz6EhAag-T",
        "outputId": "d920987c-6678-40da-fc40-582e83a54c84",
        "colab": {
          "base_uri": "https://localhost:8080/"
        }
      },
      "source": [
        "print(t[::2])  ## : ตัวที่สอง กำหนด step \t**เริ่มจากตัวแรก ถึงตัวสุดท้าย ก้าวทีละ 2"
      ],
      "execution_count": null,
      "outputs": [
        {
          "output_type": "stream",
          "name": "stdout",
          "text": [
            "pto ses,ral?\n"
          ]
        }
      ]
    },
    {
      "cell_type": "markdown",
      "source": [
        "![Screenshot_13-7-2025_211040_chatgpt.com.jpeg](data:image/jpeg;base64,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)"
      ],
      "metadata": {
        "id": "vypAT7scID1r"
      }
    },
    {
      "cell_type": "code",
      "source": [
        "print(t[::-1])"
      ],
      "metadata": {
        "colab": {
          "base_uri": "https://localhost:8080/"
        },
        "id": "RYDSwol1dK8V",
        "outputId": "407b2bb7-ba1e-4766-ad0b-4bbcb2eeaf17"
      },
      "execution_count": null,
      "outputs": [
        {
          "output_type": "stream",
          "name": "stdout",
          "text": [
            "?yllaer ,ysae si nohtyp\n"
          ]
        }
      ]
    },
    {
      "cell_type": "code",
      "source": [
        "### print(t[]) ### -> 'ysae'\n",
        "print(t[13:9:-1])\n",
        "print(t[-10:-14:-1])"
      ],
      "metadata": {
        "colab": {
          "base_uri": "https://localhost:8080/"
        },
        "id": "ynykKUV0Ia5g",
        "outputId": "69d1d4eb-0463-453c-cda8-23ce9181ac9c"
      },
      "execution_count": null,
      "outputs": [
        {
          "output_type": "stream",
          "name": "stdout",
          "text": [
            "ysae\n",
            "ysae\n"
          ]
        }
      ]
    },
    {
      "cell_type": "code",
      "source": [
        "X = 'SIDS, Department of Statistics'\n",
        "X += ',KKU'\n",
        "X + '2025'\n",
        "###print คำว่า maD Stat จากตัวแปร X\n",
        "print(X[12:5:-3] + X[19:24]) ### ถูก"
      ],
      "metadata": {
        "colab": {
          "base_uri": "https://localhost:8080/"
        },
        "id": "NB_5UN9ZJwfY",
        "outputId": "f51f102e-b5b7-49b5-bdc5-457cc754da22"
      },
      "execution_count": null,
      "outputs": [
        {
          "output_type": "stream",
          "name": "stdout",
          "text": [
            "maD Stat\n"
          ]
        }
      ]
    },
    {
      "cell_type": "code",
      "source": [
        "X"
      ],
      "metadata": {
        "colab": {
          "base_uri": "https://localhost:8080/",
          "height": 36
        },
        "id": "c32sVBZ0PUFI",
        "outputId": "43e4ca48-294f-4f3a-b9e8-31b2e732fe84"
      },
      "execution_count": null,
      "outputs": [
        {
          "output_type": "execute_result",
          "data": {
            "text/plain": [
              "'SIDS, Department of Statistics,KKU'"
            ],
            "application/vnd.google.colaboratory.intrinsic+json": {
              "type": "string"
            }
          },
          "metadata": {},
          "execution_count": 153
        }
      ]
    },
    {
      "cell_type": "code",
      "source": [
        "X[::-1] ### เลขจะกลับด้านไปข้างหลัง"
      ],
      "metadata": {
        "colab": {
          "base_uri": "https://localhost:8080/",
          "height": 36
        },
        "id": "V9E2FvOOPYaZ",
        "outputId": "e530a415-4fda-44e6-ee1a-12c3bc167c18"
      },
      "execution_count": null,
      "outputs": [
        {
          "output_type": "execute_result",
          "data": {
            "text/plain": [
              "'UKK,scitsitatS fo tnemtrapeD ,SDIS'"
            ],
            "application/vnd.google.colaboratory.intrinsic+json": {
              "type": "string"
            }
          },
          "metadata": {},
          "execution_count": 155
        }
      ]
    },
    {
      "cell_type": "markdown",
      "source": [
        "### range() สร้าง list ของตัวเลขที่เรียงกัน"
      ],
      "metadata": {
        "id": "thjZ0KwFdhus"
      }
    },
    {
      "cell_type": "code",
      "metadata": {
        "id": "9dhu9T7ebCZg",
        "outputId": "efe9a7cd-9fb2-4b96-d2e1-55db4b853624",
        "colab": {
          "base_uri": "https://localhost:8080/"
        }
      },
      "source": [
        "print(list(range(10))) ### เริ่มจาก 0 ดังนั้น 10 ตัวจะเป็น 0-9"
      ],
      "execution_count": null,
      "outputs": [
        {
          "output_type": "stream",
          "name": "stdout",
          "text": [
            "[0, 1, 2, 3, 4, 5, 6, 7, 8, 9]\n"
          ]
        }
      ]
    },
    {
      "cell_type": "code",
      "source": [
        "print(list(range(5,10)))"
      ],
      "metadata": {
        "colab": {
          "base_uri": "https://localhost:8080/"
        },
        "id": "ooJ2nnKUPLp5",
        "outputId": "9070e7f9-8b77-4488-d1fd-ddb6bbdb0b88"
      },
      "execution_count": null,
      "outputs": [
        {
          "output_type": "stream",
          "name": "stdout",
          "text": [
            "[5, 6, 7, 8, 9]\n"
          ]
        }
      ]
    },
    {
      "cell_type": "code",
      "source": [
        "print(list(range(10))[::2]) ### ข้ามทีละ 2 ขั้น"
      ],
      "metadata": {
        "colab": {
          "base_uri": "https://localhost:8080/"
        },
        "id": "BNDUD3PNd6aU",
        "outputId": "8d116d8e-e1f4-4fc4-97ee-ca212b80824c"
      },
      "execution_count": null,
      "outputs": [
        {
          "output_type": "stream",
          "name": "stdout",
          "text": [
            "[0, 2, 4, 6, 8]\n"
          ]
        }
      ]
    },
    {
      "cell_type": "markdown",
      "metadata": {
        "id": "YSoN7fl9J3G1"
      },
      "source": [
        "#### เราสามารถเอา list มาต่อกันได้ด้วย +"
      ]
    },
    {
      "cell_type": "code",
      "metadata": {
        "colab": {
          "base_uri": "https://localhost:8080/",
          "height": 36
        },
        "id": "OoUZt83iJ3G1",
        "outputId": "2dacfcc2-f222-4951-c033-db2fda570875"
      },
      "source": [
        " t + '??'"
      ],
      "execution_count": null,
      "outputs": [
        {
          "output_type": "execute_result",
          "data": {
            "text/plain": [
              "'python is easy, really???'"
            ],
            "application/vnd.google.colaboratory.intrinsic+json": {
              "type": "string"
            }
          },
          "metadata": {},
          "execution_count": 157
        }
      ]
    },
    {
      "cell_type": "code",
      "source": [
        "t + list_b ## ไม่สามารถเอา list ปกติมาต่อกับ string ได้"
      ],
      "metadata": {
        "id": "oS69VAmOP1RQ"
      },
      "execution_count": null,
      "outputs": []
    },
    {
      "cell_type": "code",
      "metadata": {
        "colab": {
          "base_uri": "https://localhost:8080/"
        },
        "id": "z56m7Q29iWXI",
        "outputId": "daed0aac-524f-4d0c-fb0f-67d4fe428ebe"
      },
      "source": [
        "list_b + list_a"
      ],
      "execution_count": null,
      "outputs": [
        {
          "output_type": "execute_result",
          "data": {
            "text/plain": [
              "[1, 5, 'v', 'u', 'u', 'sci', 'sci']"
            ]
          },
          "metadata": {},
          "execution_count": 160
        }
      ]
    },
    {
      "cell_type": "code",
      "source": [
        "list_a"
      ],
      "metadata": {
        "colab": {
          "base_uri": "https://localhost:8080/"
        },
        "id": "FyAgsnCsetMW",
        "outputId": "7a663de6-08bb-4ee5-f333-cb31bae7d7ec"
      },
      "execution_count": null,
      "outputs": [
        {
          "output_type": "execute_result",
          "data": {
            "text/plain": [
              "['sci', 'sci']"
            ]
          },
          "metadata": {},
          "execution_count": 161
        }
      ]
    },
    {
      "cell_type": "code",
      "source": [
        "list_a + list_a"
      ],
      "metadata": {
        "colab": {
          "base_uri": "https://localhost:8080/"
        },
        "id": "yis8UVAKexBY",
        "outputId": "7e481a45-ef6b-419e-f19a-6b91618b6014"
      },
      "execution_count": null,
      "outputs": [
        {
          "output_type": "execute_result",
          "data": {
            "text/plain": [
              "['sci', 'sci', 'sci', 'sci']"
            ]
          },
          "metadata": {},
          "execution_count": 162
        }
      ]
    },
    {
      "cell_type": "code",
      "source": [
        "6*list_a"
      ],
      "metadata": {
        "colab": {
          "base_uri": "https://localhost:8080/"
        },
        "id": "aQLFjupVe1XP",
        "outputId": "1cf912ae-4461-43db-e980-d8b15a73994a"
      },
      "execution_count": null,
      "outputs": [
        {
          "output_type": "execute_result",
          "data": {
            "text/plain": [
              "['sci',\n",
              " 'sci',\n",
              " 'sci',\n",
              " 'sci',\n",
              " 'sci',\n",
              " 'sci',\n",
              " 'sci',\n",
              " 'sci',\n",
              " 'sci',\n",
              " 'sci',\n",
              " 'sci',\n",
              " 'sci']"
            ]
          },
          "metadata": {},
          "execution_count": 163
        }
      ]
    },
    {
      "cell_type": "code",
      "source": [
        "20*[1] ### คือการ สร้างลิสต์ ที่ประกอบด้วยเลข 1 จำนวน 20 ตัว โดยใช้การคูณลิสต์ (list repetition)"
      ],
      "metadata": {
        "colab": {
          "base_uri": "https://localhost:8080/"
        },
        "collapsed": true,
        "id": "16cBZnrAP36H",
        "outputId": "843bf490-d2c6-44d6-fbac-a732ff437dd2"
      },
      "execution_count": null,
      "outputs": [
        {
          "output_type": "execute_result",
          "data": {
            "text/plain": [
              "[1, 1, 1, 1, 1, 1, 1, 1, 1, 1, 1, 1, 1, 1, 1, 1, 1, 1, 1, 1]"
            ]
          },
          "metadata": {},
          "execution_count": 167
        }
      ]
    },
    {
      "cell_type": "markdown",
      "metadata": {
        "id": "GWJi8kGLJ3G1"
      },
      "source": [
        "#### การแบ่ง string ตามสัญลักษณ์ที่กำหนด -> split string"
      ]
    },
    {
      "cell_type": "code",
      "source": [
        "t"
      ],
      "metadata": {
        "colab": {
          "base_uri": "https://localhost:8080/",
          "height": 36
        },
        "id": "q1_OXBkJfJ0l",
        "outputId": "f1eec19a-a395-443c-d2c8-ee69476d6b93"
      },
      "execution_count": null,
      "outputs": [
        {
          "output_type": "execute_result",
          "data": {
            "text/plain": [
              "'python is easy, really?'"
            ],
            "application/vnd.google.colaboratory.intrinsic+json": {
              "type": "string"
            }
          },
          "metadata": {},
          "execution_count": 168
        }
      ]
    },
    {
      "cell_type": "code",
      "metadata": {
        "colab": {
          "base_uri": "https://localhost:8080/"
        },
        "id": "AnpBykIoJ3G1",
        "outputId": "a0b71ec3-3f0b-4040-cb91-dbd710711cb4"
      },
      "source": [
        "t.split(' ') ### .split(' ') แยกข้อความโดยแบ่งที่ ช่องว่าง ทุกตัวที่เจอ"
      ],
      "execution_count": null,
      "outputs": [
        {
          "output_type": "execute_result",
          "data": {
            "text/plain": [
              "['python', 'is', 'easy,', 'really?']"
            ]
          },
          "metadata": {},
          "execution_count": 170
        }
      ]
    },
    {
      "cell_type": "code",
      "metadata": {
        "id": "iAXvmowYJ3G2"
      },
      "source": [
        "time = '12:30:15'"
      ],
      "execution_count": null,
      "outputs": []
    },
    {
      "cell_type": "code",
      "metadata": {
        "colab": {
          "base_uri": "https://localhost:8080/"
        },
        "id": "KlYa6JHiJ3G2",
        "outputId": "89a1b57a-d7e7-4a95-bbd2-db0671dd9e51"
      },
      "source": [
        "time.split(':') ### แยกชม. นาที วินาที"
      ],
      "execution_count": null,
      "outputs": [
        {
          "output_type": "execute_result",
          "data": {
            "text/plain": [
              "['12', '30', '15']"
            ]
          },
          "metadata": {},
          "execution_count": 173
        }
      ]
    },
    {
      "cell_type": "code",
      "metadata": {
        "colab": {
          "base_uri": "https://localhost:8080/"
        },
        "id": "nfVAyjasj4dq",
        "outputId": "7dce0f85-07fd-4b93-8641-9e85b00f56d1"
      },
      "source": [
        "print(t)\n",
        "t_sp = t.split(' ')\n",
        "print(t_sp)\n",
        "\n",
        "## วิธีรวมกลับ\n",
        "\n",
        "print(':'.join(t_sp))\n"
      ],
      "execution_count": null,
      "outputs": [
        {
          "output_type": "stream",
          "name": "stdout",
          "text": [
            "python is easy, really?\n",
            "['python', 'is', 'easy,', 'really?']\n",
            "python:is:easy,:really?\n"
          ]
        }
      ]
    },
    {
      "cell_type": "markdown",
      "metadata": {
        "id": "ZbO2O78tJ3G7"
      },
      "source": [
        "### HW1 คำนวณช่วงเวลาเป็นวินาทีของช่วงเวลาต่อไปนี้โดยใช้คำสั่ง split() ช่วย (print ออกมาให้สวยงาม)\n",
        "12:30:15, Wednesday - 13:41:07, Thursday\n",
        "\n",
        "12:53:15, Monday - 00:59:25, Tuesday\n",
        "\n",
        "16:06:09, Sunday - 11:11:11, Tuesday"
      ]
    },
    {
      "cell_type": "code",
      "source": [
        "# ตารางลำดับวัน\n",
        "day_order = {\n",
        "    'Sunday': 0, 'Monday': 1, 'Tuesday': 2, 'Wednesday': 3,\n",
        "    'Thursday': 4, 'Friday': 5, 'Saturday': 6\n",
        "}\n",
        "\n",
        "# ฟังก์ชันแปลงเวลาเป็นวินาที\n",
        "def time_to_seconds(t):\n",
        "    h, m, s = map(int, t.split(':'))\n",
        "    return h * 3600 + m * 60 + s\n",
        "\n",
        "# ฟังก์ชันคำนวณเวลาต่างกันทั้งหมดในวินาที\n",
        "def duration_in_seconds(start_str, end_str):\n",
        "    time1, day1 = start_str.split(', ')\n",
        "    time2, day2 = end_str.split(', ')\n",
        "\n",
        "    t1_sec = time_to_seconds(time1)\n",
        "    t2_sec = time_to_seconds(time2)\n",
        "\n",
        "    day_diff = (day_order[day2] - day_order[day1]) % 7  # เผื่อกรณีข้ามสัปดาห์\n",
        "    return day_diff * 86400 + (t2_sec - t1_sec)\n",
        "\n",
        "# รายการช่วงเวลา\n",
        "time_ranges = [\n",
        "    \"12:30:15, Wednesday - 13:41:07, Thursday\",\n",
        "    \"12:53:15, Monday - 00:59:25, Tuesday\",\n",
        "    \"16:06:09, Sunday - 11:11:11, Tuesday\"\n",
        "]\n",
        "\n",
        "# แสดงผล\n",
        "for t in time_ranges:\n",
        "    start, end = t.split(' - ')\n",
        "    seconds = duration_in_seconds(start, end)\n",
        "    print(f\"{t} = {seconds:,} seconds\")\n"
      ],
      "metadata": {
        "id": "vRp6wKsrgBZE",
        "colab": {
          "base_uri": "https://localhost:8080/"
        },
        "outputId": "172f34e7-3dd0-4800-8909-89d7780d7298"
      },
      "execution_count": 1,
      "outputs": [
        {
          "output_type": "stream",
          "name": "stdout",
          "text": [
            "12:30:15, Wednesday - 13:41:07, Thursday = 90,652 seconds\n",
            "12:53:15, Monday - 00:59:25, Tuesday = 43,570 seconds\n",
            "16:06:09, Sunday - 11:11:11, Tuesday = 155,102 seconds\n"
          ]
        }
      ]
    },
    {
      "cell_type": "code",
      "source": [
        "# ตารางลำดับวัน\n",
        "day_order = {\n",
        "    'Sunday': 0, 'Monday': 1, 'Tuesday': 2, 'Wednesday': 3,\n",
        "    'Thursday': 4, 'Friday': 5, 'Saturday': 6\n",
        "}\n",
        "\n",
        "# ฟังก์ชันแปลงเวลาเป็นวินาที\n",
        "def time_to_seconds(t):\n",
        "    h, m, s = map(int, t.split(':'))\n",
        "    return h * 3600 + m * 60 + s\n",
        "\n",
        "# ฟังก์ชันคำนวณความห่างของวัน และวินาทีในวันนั้น\n",
        "def duration_days_and_seconds(start_str, end_str):\n",
        "    time1, day1 = start_str.split(', ')\n",
        "    time2, day2 = end_str.split(', ')\n",
        "\n",
        "    t1_sec = time_to_seconds(time1)\n",
        "    t2_sec = time_to_seconds(time2)\n",
        "\n",
        "    day_diff = (day_order[day2] - day_order[day1]) % 7\n",
        "    second_diff = t2_sec - t1_sec\n",
        "\n",
        "    # ถ้าผลลบ แสดงว่าเวลาข้ามวัน ต้องยืม 1 วันมา + 86400\n",
        "    if second_diff < 0:\n",
        "        second_diff += 86400\n",
        "        day_diff -= 1\n",
        "\n",
        "    return day_diff, second_diff\n",
        "\n",
        "# รายการช่วงเวลา\n",
        "time_ranges = [\n",
        "    \"12:30:15, Wednesday - 13:41:07, Thursday\",\n",
        "    \"12:53:15, Monday - 00:59:25, Tuesday\",\n",
        "    \"16:06:09, Sunday - 11:11:11, Tuesday\"\n",
        "]\n",
        "\n",
        "# แสดงผล\n",
        "for t in time_ranges:\n",
        "    start, end = t.split(' - ')\n",
        "    days, secs = duration_days_and_seconds(start, end)\n",
        "    print(f\"{t} = {days} วัน {secs:,} วินาที\")\n"
      ],
      "metadata": {
        "colab": {
          "base_uri": "https://localhost:8080/"
        },
        "id": "CMTMJDaBIM2y",
        "outputId": "449a4dd6-c719-4064-d3e1-2bdbb5a00bff"
      },
      "execution_count": 2,
      "outputs": [
        {
          "output_type": "stream",
          "name": "stdout",
          "text": [
            "12:30:15, Wednesday - 13:41:07, Thursday = 1 วัน 4,252 วินาที\n",
            "12:53:15, Monday - 00:59:25, Tuesday = 0 วัน 43,570 วินาที\n",
            "16:06:09, Sunday - 11:11:11, Tuesday = 1 วัน 68,702 วินาที\n"
          ]
        }
      ]
    },
    {
      "cell_type": "markdown",
      "metadata": {
        "id": "36JVc7P5toqQ"
      },
      "source": [
        "# ยังไม่ต้องทำ\n",
        "## ให้สร้างฟังก์ชั่นคำนวณเวลาเป็นวินาทีของเวลาใดๆ และ print ออกมาให้สวยงาม"
      ]
    },
    {
      "cell_type": "markdown",
      "metadata": {
        "id": "mR708s6l25kL"
      },
      "source": [
        "## ให้ สร้าง list ของ เวลา ```['12:30:15','13:41:07',....]``` แล้ววนลูปเรียกฟังก์ชั่นคำนวณเวลาเป็น วินาที\n",
        "\n",
        "**commit ว่า HW3**"
      ]
    },
    {
      "cell_type": "code",
      "metadata": {
        "id": "F5SleBYkkzKw"
      },
      "source": [],
      "execution_count": null,
      "outputs": []
    }
  ]
}