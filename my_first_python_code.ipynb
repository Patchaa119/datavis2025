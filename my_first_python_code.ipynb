{
  "nbformat": 4,
  "nbformat_minor": 0,
  "metadata": {
    "colab": {
      "provenance": [],
      "authorship_tag": "ABX9TyPS3/CcKDoNVOUF7kETE6E2",
      "include_colab_link": true
    },
    "kernelspec": {
      "name": "python3",
      "display_name": "Python 3"
    },
    "language_info": {
      "name": "python"
    }
  },
  "cells": [
    {
      "cell_type": "markdown",
      "metadata": {
        "id": "view-in-github",
        "colab_type": "text"
      },
      "source": [
        "<a href=\"https://colab.research.google.com/github/Patchaa119/datavis2025/blob/main/my_first_python_code.ipynb\" target=\"_parent\"><img src=\"https://colab.research.google.com/assets/colab-badge.svg\" alt=\"Open In Colab\"/></a>"
      ]
    },
    {
      "cell_type": "markdown",
      "source": [
        "Here we can write using **Markdown**\n",
        "# intro"
      ],
      "metadata": {
        "id": "qgDmVEf6H55L"
      }
    },
    {
      "cell_type": "markdown",
      "source": [
        "##name"
      ],
      "metadata": {
        "id": "jp0cerXnISTP"
      }
    },
    {
      "cell_type": "code",
      "source": [
        "print(\"Patcharee\")"
      ],
      "metadata": {
        "colab": {
          "base_uri": "https://localhost:8080/"
        },
        "id": "RBJU2T1pI1ag",
        "outputId": "a6022741-95af-4355-bd67-bad7631a1314"
      },
      "execution_count": null,
      "outputs": [
        {
          "output_type": "stream",
          "name": "stdout",
          "text": [
            "Patcharee\n"
          ]
        }
      ]
    },
    {
      "cell_type": "markdown",
      "source": [
        "##surname"
      ],
      "metadata": {
        "id": "Xqrq0U_tIOES"
      }
    },
    {
      "cell_type": "code",
      "source": [
        "print('Deeya')"
      ],
      "metadata": {
        "colab": {
          "base_uri": "https://localhost:8080/"
        },
        "id": "ibYE0tU5I6PB",
        "outputId": "34664aee-c968-4026-ce83-0992ad220b16"
      },
      "execution_count": null,
      "outputs": [
        {
          "output_type": "stream",
          "name": "stdout",
          "text": [
            "Deeya\n"
          ]
        }
      ]
    },
    {
      "cell_type": "code",
      "source": [],
      "metadata": {
        "id": "ORFXK2oeJJXK"
      },
      "execution_count": null,
      "outputs": []
    }
  ]
}